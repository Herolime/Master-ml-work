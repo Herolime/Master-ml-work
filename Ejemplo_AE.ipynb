{
 "cells": [
  {
   "cell_type": "markdown",
   "id": "6554ef17",
   "metadata": {},
   "source": [
    "# Importing necessary packages and frameworks"
   ]
  },
  {
   "cell_type": "code",
   "execution_count": 1,
   "id": "25b7f11d",
   "metadata": {},
   "outputs": [],
   "source": [
    "import pandas as pd\n",
    "import numpy as np\n",
    "import matplotlib.pyplot as plt\n",
    "import seaborn as sns\n",
    "import tensorflow as tf\n",
    "\n",
    "from tensorflow.keras.layers import Input, Dense\n",
    "from tensorflow.keras.models import Model\n",
    "from tensorflow.keras import regularizers\n",
    "from sklearn.model_selection import train_test_split\n",
    "from sklearn.preprocessing import MinMaxScaler\n",
    "from sklearn.metrics import confusion_matrix, f1_score"
   ]
  },
  {
   "cell_type": "code",
   "execution_count": 2,
   "id": "0e58bfd3",
   "metadata": {},
   "outputs": [],
   "source": [
    "def autoencoder_function(nv, nh, optimizer='adam', loss = 'mean_squared_error', metrics=['accuracy']):\n",
    "    \"\"\"\n",
    "    Main function to define the AE Neural Network\n",
    "    \n",
    "    Parameters\n",
    "    ----------\n",
    "    nv: TYPE\n",
    "    nh : TYPE\n",
    "    optimizer : TYPE, optional\n",
    "    DESCRIPTION. The default is \"adam\".\n",
    "    loss : TYPE, optional\n",
    "    DESCRIPTION. The default is 'mean_squared_error'.\n",
    "    metrics : TYPE, optional\n",
    "    DESCRIPTION. The default is ['accuracy'].\n",
    "    \n",
    "    Returns\n",
    "    -------\n",
    "    autoencoder: TYPE\n",
    "    \"\"\"\n",
    "    \n",
    "    #Define input\n",
    "    input_layer = Input(shape=(nv,))\n",
    "    \n",
    "    #Encoding\n",
    "    encoder = Dense(nh, activation='relu', activity_regularizer=regularizers.l1(10e-5))(input_layer)\n",
    "    \n",
    "    #Decoding\n",
    "    decoder = Dense(nv, activation='sigmoid')(encoder)\n",
    "    \n",
    "    #Model\n",
    "    autoencoder = Model(inputs=input_layer, outputs=decoder)\n",
    "    autoencoder.compile(optimizer=optimizer, loss=loss, metrics=metrics)\n",
    "    \n",
    "    return autoencoder"
   ]
  },
  {
   "cell_type": "markdown",
   "id": "19683d15",
   "metadata": {},
   "source": [
    "# I. Prepare data\n",
    "## Disable eager_exec"
   ]
  },
  {
   "cell_type": "code",
   "execution_count": 3,
   "id": "76b870ac",
   "metadata": {},
   "outputs": [],
   "source": [
    "tf.compat.v1.disable_eager_execution()"
   ]
  },
  {
   "cell_type": "markdown",
   "id": "00cbde4c",
   "metadata": {},
   "source": [
    "## Load & prepare data"
   ]
  },
  {
   "cell_type": "code",
   "execution_count": 4,
   "id": "34aa0842",
   "metadata": {},
   "outputs": [],
   "source": [
    "df_raw = pd.read_csv('Data_Sources/creditcard.csv').drop(columns=['Time'])"
   ]
  },
  {
   "cell_type": "markdown",
   "id": "ccb265c7",
   "metadata": {},
   "source": [
    "## Plot target variable"
   ]
  },
  {
   "cell_type": "code",
   "execution_count": 5,
   "id": "e0d8001d",
   "metadata": {},
   "outputs": [
    {
     "data": {
      "image/png": "[encoded data removed]",
      "text/plain": [
       "<Figure size 432x288 with 1 Axes>"
      ]
     },
     "metadata": {},
     "output_type": "display_data"
    }
   ],
   "source": [
    "labels = ['Normal', 'Fraud']\n",
    "sizes = [len(df_raw[df_raw['Class']==0]), len(df_raw[df_raw['Class']==1])]\n",
    "colors = ['lightskyblue', 'red']\n",
    "explode = (0, 0.1)\n",
    "plt.pie(sizes, explode=explode, labels=labels, colors=colors, autopct='%1.1f%%', shadow=True, startangle=140)\n",
    "plt.title('Normal vs Fraud Clients')\n",
    "plt.show()"
   ]
  },
  {
   "cell_type": "markdown",
   "id": "3b35bd6b",
   "metadata": {},
   "source": [
    "## Normalize"
   ]
  },
  {
   "cell_type": "code",
   "execution_count": 6,
   "id": "5ed00b61",
   "metadata": {},
   "outputs": [],
   "source": [
    "sc = MinMaxScaler(feature_range = (0, 1))\n",
    "df_raw['Amount'] = sc.fit_transform(df_raw['Amount'].values.reshape(-1, 1))"
   ]
  },
  {
   "cell_type": "markdown",
   "id": "17f9e9a1",
   "metadata": {},
   "source": [
    "# II. Supervised\n",
    "## Train/Eval split"
   ]
  },
  {
   "cell_type": "code",
   "execution_count": 7,
   "id": "f5813356",
   "metadata": {},
   "outputs": [],
   "source": [
    "X_train, X_test = train_test_split(df_raw, test_size=0.2, random_state=42)"
   ]
  },
  {
   "cell_type": "markdown",
   "id": "add9f85c",
   "metadata": {},
   "source": [
    "## Train only in non outliers"
   ]
  },
  {
   "cell_type": "code",
   "execution_count": 8,
   "id": "d3357cb9",
   "metadata": {},
   "outputs": [],
   "source": [
    "X_train = X_train[X_train.Class==0]\n",
    "X_train = X_train.drop(['Class'], axis=1)\n",
    "y_test = X_test['Class']\n",
    "X_test = X_test.drop(['Class'], axis=1)\n",
    "X_train = X_train.values\n",
    "X_test = X_test.values"
   ]
  },
  {
   "cell_type": "markdown",
   "id": "5172b8f8",
   "metadata": {},
   "source": [
    "## Parameters"
   ]
  },
  {
   "cell_type": "code",
   "execution_count": 9,
   "id": "93d4b821",
   "metadata": {},
   "outputs": [],
   "source": [
    "nv = X_train.shape[1] # visible units\n",
    "nh = 32 # hidden units\n",
    "epochs = 50\n",
    "batch_size = 256"
   ]
  },
  {
   "cell_type": "markdown",
   "id": "066b4041",
   "metadata": {},
   "source": [
    "## Train AE"
   ]
  },
  {
   "cell_type": "code",
   "execution_count": 10,
   "id": "af18c91c",
   "metadata": {},
   "outputs": [
    {
     "name": "stdout",
     "output_type": "stream",
     "text": [
      "Train on 227451 samples\n",
      "Epoch 1/50\n",
      "227451/227451 [==============================] - 3s 11us/sample - loss: 0.8499 - accuracy: 0.5993\n",
      "Epoch 2/50\n",
      "227451/227451 [==============================] - 2s 10us/sample - loss: 0.7305 - accuracy: 0.7839\n",
      "Epoch 3/50\n",
      "227451/227451 [==============================] - 3s 12us/sample - loss: 0.7150 - accuracy: 0.8209\n",
      "Epoch 4/50\n",
      "227451/227451 [==============================] - 3s 15us/sample - loss: 0.7080 - accuracy: 0.8630\n",
      "Epoch 5/50\n",
      "227451/227451 [==============================] - 3s 12us/sample - loss: 0.7039 - accuracy: 0.8989\n",
      "Epoch 6/50\n",
      "227451/227451 [==============================] - 5s 22us/sample - loss: 0.7016 - accuracy: 0.9179\n",
      "Epoch 7/50\n",
      "227451/227451 [==============================] - 2s 9us/sample - loss: 0.6990 - accuracy: 0.9247\n",
      "Epoch 8/50\n",
      "227451/227451 [==============================] - 4s 19us/sample - loss: 0.6981 - accuracy: 0.9244\n",
      "Epoch 9/50\n",
      "227451/227451 [==============================] - 3s 15us/sample - loss: 0.6974 - accuracy: 0.9212\n",
      "Epoch 10/50\n",
      "227451/227451 [==============================] - 2s 9us/sample - loss: 0.6968 - accuracy: 0.9197\n",
      "Epoch 11/50\n",
      "227451/227451 [==============================] - 2s 11us/sample - loss: 0.6963 - accuracy: 0.9178\n",
      "Epoch 12/50\n",
      "227451/227451 [==============================] - 2s 10us/sample - loss: 0.6955 - accuracy: 0.9155\n",
      "Epoch 13/50\n",
      "227451/227451 [==============================] - 2s 8us/sample - loss: 0.6952 - accuracy: 0.9136\n",
      "Epoch 14/50\n",
      "227451/227451 [==============================] - 2s 8us/sample - loss: 0.6949 - accuracy: 0.9134\n",
      "Epoch 15/50\n",
      "227451/227451 [==============================] - 2s 8us/sample - loss: 0.6947 - accuracy: 0.9129\n",
      "Epoch 16/50\n",
      "227451/227451 [==============================] - 2s 10us/sample - loss: 0.6945 - accuracy: 0.9123\n",
      "Epoch 17/50\n",
      "227451/227451 [==============================] - 2s 10us/sample - loss: 0.6943 - accuracy: 0.9114\n",
      "Epoch 18/50\n",
      "227451/227451 [==============================] - 2s 11us/sample - loss: 0.6942 - accuracy: 0.9120\n",
      "Epoch 19/50\n",
      "227451/227451 [==============================] - 3s 12us/sample - loss: 0.6940 - accuracy: 0.9124\n",
      "Epoch 20/50\n",
      "227451/227451 [==============================] - 3s 11us/sample - loss: 0.6939 - accuracy: 0.9121\n",
      "Epoch 21/50\n",
      "227451/227451 [==============================] - 3s 13us/sample - loss: 0.6938 - accuracy: 0.9114\n",
      "Epoch 22/50\n",
      "227451/227451 [==============================] - 2s 10us/sample - loss: 0.6937 - accuracy: 0.9110s - loss: 0.6941 - accuracy\n",
      "Epoch 23/50\n",
      "227451/227451 [==============================] - 3s 11us/sample - loss: 0.6935 - accuracy: 0.9107\n",
      "Epoch 24/50\n",
      "227451/227451 [==============================] - 2s 10us/sample - loss: 0.6934 - accuracy: 0.9101\n",
      "Epoch 25/50\n",
      "227451/227451 [==============================] - 2s 8us/sample - loss: 0.6934 - accuracy: 0.9101\n",
      "Epoch 26/50\n",
      "227451/227451 [==============================] - 2s 9us/sample - loss: 0.6933 - accuracy: 0.9101\n",
      "Epoch 27/50\n",
      "227451/227451 [==============================] - 2s 9us/sample - loss: 0.6932 - accuracy: 0.9102\n",
      "Epoch 28/50\n",
      "227451/227451 [==============================] - 2s 10us/sample - loss: 0.6931 - accuracy: 0.9093\n",
      "Epoch 29/50\n",
      "227451/227451 [==============================] - 2s 8us/sample - loss: 0.6930 - accuracy: 0.9094\n",
      "Epoch 30/50\n",
      "227451/227451 [==============================] - 3s 11us/sample - loss: 0.6930 - accuracy: 0.9095\n",
      "Epoch 31/50\n",
      "227451/227451 [==============================] - 2s 11us/sample - loss: 0.6929 - accuracy: 0.9091\n",
      "Epoch 32/50\n",
      "227451/227451 [==============================] - 3s 13us/sample - loss: 0.6929 - accuracy: 0.9083\n",
      "Epoch 33/50\n",
      "227451/227451 [==============================] - 3s 12us/sample - loss: 0.6928 - accuracy: 0.9089\n",
      "Epoch 34/50\n",
      "227451/227451 [==============================] - 5s 21us/sample - loss: 0.6927 - accuracy: 0.9088\n",
      "Epoch 35/50\n",
      "227451/227451 [==============================] - 3s 12us/sample - loss: 0.6927 - accuracy: 0.9085\n",
      "Epoch 36/50\n",
      "227451/227451 [==============================] - 3s 12us/sample - loss: 0.6927 - accuracy: 0.9084\n",
      "Epoch 37/50\n",
      "227451/227451 [==============================] - 2s 8us/sample - loss: 0.6926 - accuracy: 0.9082\n",
      "Epoch 38/50\n",
      "227451/227451 [==============================] - 2s 11us/sample - loss: 0.6926 - accuracy: 0.9087\n",
      "Epoch 39/50\n",
      "227451/227451 [==============================] - 3s 13us/sample - loss: 0.6925 - accuracy: 0.9076\n",
      "Epoch 40/50\n",
      "227451/227451 [==============================] - 3s 12us/sample - loss: 0.6925 - accuracy: 0.9074\n",
      "Epoch 41/50\n",
      "227451/227451 [==============================] - 3s 12us/sample - loss: 0.6925 - accuracy: 0.9075\n",
      "Epoch 42/50\n",
      "227451/227451 [==============================] - 2s 10us/sample - loss: 0.6924 - accuracy: 0.9064\n",
      "Epoch 43/50\n",
      "227451/227451 [==============================] - 3s 12us/sample - loss: 0.6924 - accuracy: 0.9072\n",
      "Epoch 44/50\n",
      "227451/227451 [==============================] - 3s 12us/sample - loss: 0.6924 - accuracy: 0.9062\n",
      "Epoch 45/50\n",
      "227451/227451 [==============================] - 3s 12us/sample - loss: 0.6924 - accuracy: 0.9053\n",
      "Epoch 46/50\n",
      "227451/227451 [==============================] - 2s 10us/sample - loss: 0.6923 - accuracy: 0.9065\n",
      "Epoch 47/50\n",
      "227451/227451 [==============================] - 2s 10us/sample - loss: 0.6923 - accuracy: 0.9059\n",
      "Epoch 48/50\n",
      "227451/227451 [==============================] - 3s 15us/sample - loss: 0.6923 - accuracy: 0.9057\n",
      "Epoch 49/50\n",
      "227451/227451 [==============================] - 3s 12us/sample - loss: 0.6922 - accuracy: 0.9056\n",
      "Epoch 50/50\n",
      "227451/227451 [==============================] - 3s 13us/sample - loss: 0.6922 - accuracy: 0.9058\n"
     ]
    }
   ],
   "source": [
    "model = autoencoder_function(nv, nh, optimizer='adam', loss='mean_squared_error', metrics =['accuracy'])\n",
    "history = model.fit(X_train, X_train, epochs=epochs, batch_size=batch_size, shuffle=True)"
   ]
  },
  {
   "cell_type": "markdown",
   "id": "f78cc4ea",
   "metadata": {},
   "source": [
    "## Plot metrics"
   ]
  },
  {
   "cell_type": "code",
   "execution_count": 11,
   "id": "046e7a55",
   "metadata": {},
   "outputs": [
    {
     "data": {
      "image/png": "[encoded data removed]",
      "text/plain": [
       "<Figure size 432x288 with 1 Axes>"
      ]
     },
     "metadata": {
      "needs_background": "light"
     },
     "output_type": "display_data"
    }
   ],
   "source": [
    "plt_history = history.history\n",
    "plt.plot(plt_history['loss'])\n",
    "plt.title('model loss')\n",
    "plt.ylabel('loss')\n",
    "plt.xlabel('epoch')\n",
    "plt.legend(['validation'], loc='upper right')\n",
    "plt.show()"
   ]
  },
  {
   "cell_type": "markdown",
   "id": "9ffae571",
   "metadata": {},
   "source": [
    "## Obtain predictions"
   ]
  },
  {
   "cell_type": "code",
   "execution_count": 12,
   "id": "a124e368",
   "metadata": {},
   "outputs": [
    {
     "name": "stderr",
     "output_type": "stream",
     "text": [
      "/usr/local/anaconda3/lib/python3.8/site-packages/tensorflow/python/keras/engine/training.py:2426: UserWarning: `Model.state_updates` will be removed in a future version. This property should not be used in TensorFlow 2.0, as `updates` are applied automatically.\n",
      "  warnings.warn('`Model.state_updates` will be removed in a future version. '\n"
     ]
    },
    {
     "data": {
      "text/html": [
       "<div>\n",
       "<style scoped>\n",
       "    .dataframe tbody tr th:only-of-type {\n",
       "        vertical-align: middle;\n",
       "    }\n",
       "\n",
       "    .dataframe tbody tr th {\n",
       "        vertical-align: top;\n",
       "    }\n",
       "\n",
       "    .dataframe thead th {\n",
       "        text-align: right;\n",
       "    }\n",
       "</style>\n",
       "<table border=\"1\" class=\"dataframe\">\n",
       "  <thead>\n",
       "    <tr style=\"text-align: right;\">\n",
       "      <th></th>\n",
       "      <th>reconstruction_error</th>\n",
       "      <th>true_class</th>\n",
       "    </tr>\n",
       "  </thead>\n",
       "  <tbody>\n",
       "    <tr>\n",
       "      <th>43428</th>\n",
       "      <td>80.799711</td>\n",
       "      <td>1</td>\n",
       "    </tr>\n",
       "    <tr>\n",
       "      <th>49906</th>\n",
       "      <td>0.709810</td>\n",
       "      <td>0</td>\n",
       "    </tr>\n",
       "    <tr>\n",
       "      <th>29474</th>\n",
       "      <td>0.185185</td>\n",
       "      <td>0</td>\n",
       "    </tr>\n",
       "    <tr>\n",
       "      <th>276481</th>\n",
       "      <td>0.289815</td>\n",
       "      <td>0</td>\n",
       "    </tr>\n",
       "    <tr>\n",
       "      <th>278846</th>\n",
       "      <td>0.166615</td>\n",
       "      <td>0</td>\n",
       "    </tr>\n",
       "  </tbody>\n",
       "</table>\n",
       "</div>"
      ],
      "text/plain": [
       "        reconstruction_error  true_class\n",
       "43428              80.799711           1\n",
       "49906               0.709810           0\n",
       "29474               0.185185           0\n",
       "276481              0.289815           0\n",
       "278846              0.166615           0"
      ]
     },
     "execution_count": 12,
     "metadata": {},
     "output_type": "execute_result"
    }
   ],
   "source": [
    "threshold = 2.9 # Set threshold for reconstruction error\n",
    "\n",
    "predictions = model.predict(X_test)\n",
    "se = np.mean(np.power(X_test - predictions, 2), axis = 1)\n",
    "mse = np.mean(np.power(X_test - predictions, 2), axis = 1)\n",
    "error_df = pd.DataFrame({'reconstruction_error': mse, 'true_class': y_test})\n",
    "error_df.head()"
   ]
  },
  {
   "cell_type": "markdown",
   "id": "000c87ce",
   "metadata": {},
   "source": [
    "## Visualize [Chart]"
   ]
  },
  {
   "cell_type": "code",
   "execution_count": 13,
   "id": "91051941",
   "metadata": {},
   "outputs": [
    {
     "data": {
      "image/png": "[encoded data removed]",
      "text/plain": [
       "<Figure size 432x288 with 1 Axes>"
      ]
     },
     "metadata": {
      "needs_background": "light"
     },
     "output_type": "display_data"
    }
   ],
   "source": [
    "groups = error_df.groupby('true_class')\n",
    "fig, ax = plt.subplots()\n",
    "\n",
    "for name, group in groups:\n",
    "    ax.plot(group.index,\n",
    "            group.reconstruction_error,\n",
    "            marker='o',\n",
    "            ms=3.5,\n",
    "            linestyle='',\n",
    "            label='Fraud' if name == 1 else 'Normal')\n",
    "ax.hlines(threshold, ax.get_xlim()[0], ax.get_xlim()[1], colors='r', zorder=100, label = 'Threshold')\n",
    "ax.legend()\n",
    "plt.title('Reconstruction error for different classes')\n",
    "plt.ylabel('Reconstruction error')\n",
    "plt.xlabel('Data point index')\n",
    "plt.show()"
   ]
  },
  {
   "cell_type": "markdown",
   "id": "af35278c",
   "metadata": {},
   "source": [
    "## Visualize [CM]"
   ]
  },
  {
   "cell_type": "code",
   "execution_count": 14,
   "id": "6df1ea82",
   "metadata": {},
   "outputs": [
    {
     "data": {
      "image/png": "[encoded data removed]",
      "text/plain": [
       "<Figure size 432x288 with 2 Axes>"
      ]
     },
     "metadata": {
      "needs_background": "light"
     },
     "output_type": "display_data"
    }
   ],
   "source": [
    "y_pred = [1 if e > threshold else 0 for e in error_df.reconstruction_error.values]\n",
    "conf_matrix = confusion_matrix(error_df.true_class, y_pred)\n",
    "sns.heatmap(conf_matrix, xticklabels=labels, yticklabels=labels, annot=True, fmt='d', annot_kws={'fontsize':12})\n",
    "plt.title('Confusion matrix')\n",
    "plt.ylabel('True class')\n",
    "plt.xlabel('Predicted class')\n",
    "plt.show()"
   ]
  },
  {
   "cell_type": "code",
   "execution_count": 15,
   "id": "a91cde61",
   "metadata": {},
   "outputs": [],
   "source": [
    "model.save('Models/model_supervised_AE.h5')"
   ]
  },
  {
   "cell_type": "markdown",
   "id": "1ef3ef09",
   "metadata": {},
   "source": [
    "# III. Unsupervised\n",
    "## Train/Eval split"
   ]
  },
  {
   "cell_type": "code",
   "execution_count": 16,
   "id": "e5265e7e",
   "metadata": {},
   "outputs": [],
   "source": [
    "df_input = df_raw.copy().drop(columns=['Class']) # No class column\n",
    "X_train, X_test = train_test_split(df_input, test_size=0.2, random_state=42)"
   ]
  },
  {
   "cell_type": "markdown",
   "id": "e5a8db4f",
   "metadata": {},
   "source": [
    "## Parameters"
   ]
  },
  {
   "cell_type": "code",
   "execution_count": 17,
   "id": "255d1831",
   "metadata": {},
   "outputs": [],
   "source": [
    "nv = X_train.shape[1] #visible units\n",
    "nh = 32 #hidden units\n",
    "epochs = 50\n",
    "batch_size = 256"
   ]
  },
  {
   "cell_type": "markdown",
   "id": "d7f7cffe",
   "metadata": {},
   "source": [
    "# Train AE"
   ]
  },
  {
   "cell_type": "code",
   "execution_count": 18,
   "id": "4c8277f9",
   "metadata": {},
   "outputs": [
    {
     "name": "stdout",
     "output_type": "stream",
     "text": [
      "Train on 227845 samples\n",
      "Epoch 1/50\n",
      "227845/227845 [==============================] - 3s 15us/sample - loss: 0.9018 - accuracy: 0.5876\n",
      "Epoch 2/50\n",
      "227845/227845 [==============================] - 4s 19us/sample - loss: 0.7750 - accuracy: 0.7763s - loss: 0.7807 - ac\n",
      "Epoch 3/50\n",
      "227845/227845 [==============================] - 4s 17us/sample - loss: 0.7588 - accuracy: 0.8157\n",
      "Epoch 4/50\n",
      "227845/227845 [==============================] - 4s 16us/sample - loss: 0.7506 - accuracy: 0.8633\n",
      "Epoch 5/50\n",
      "227845/227845 [==============================] - 3s 14us/sample - loss: 0.7457 - accuracy: 0.8977\n",
      "Epoch 6/50\n",
      "227845/227845 [==============================] - 3s 13us/sample - loss: 0.7425 - accuracy: 0.9169\n",
      "Epoch 7/50\n",
      "227845/227845 [==============================] - 2s 11us/sample - loss: 0.7412 - accuracy: 0.9268\n",
      "Epoch 8/50\n",
      "227845/227845 [==============================] - 2s 10us/sample - loss: 0.7404 - accuracy: 0.9279\n",
      "Epoch 9/50\n",
      "227845/227845 [==============================] - 2s 9us/sample - loss: 0.7399 - accuracy: 0.9265\n",
      "Epoch 10/50\n",
      "227845/227845 [==============================] - 2s 9us/sample - loss: 0.7392 - accuracy: 0.9240\n",
      "Epoch 11/50\n",
      "227845/227845 [==============================] - 2s 10us/sample - loss: 0.7388 - accuracy: 0.9216\n",
      "Epoch 12/50\n",
      "227845/227845 [==============================] - 3s 12us/sample - loss: 0.7384 - accuracy: 0.9184\n",
      "Epoch 13/50\n",
      "227845/227845 [==============================] - 3s 12us/sample - loss: 0.7381 - accuracy: 0.9163\n",
      "Epoch 14/50\n",
      "227845/227845 [==============================] - 3s 14us/sample - loss: 0.7379 - accuracy: 0.9142\n",
      "Epoch 15/50\n",
      "227845/227845 [==============================] - 3s 12us/sample - loss: 0.7373 - accuracy: 0.9120\n",
      "Epoch 16/50\n",
      "227845/227845 [==============================] - 3s 12us/sample - loss: 0.7369 - accuracy: 0.9119\n",
      "Epoch 17/50\n",
      "227845/227845 [==============================] - 2s 10us/sample - loss: 0.7367 - accuracy: 0.9104\n",
      "Epoch 18/50\n",
      "227845/227845 [==============================] - 2s 10us/sample - loss: 0.7365 - accuracy: 0.9097\n",
      "Epoch 19/50\n",
      "227845/227845 [==============================] - 5s 20us/sample - loss: 0.7363 - accuracy: 0.9095\n",
      "Epoch 20/50\n",
      "227845/227845 [==============================] - 3s 14us/sample - loss: 0.7362 - accuracy: 0.9088\n",
      "Epoch 21/50\n",
      "227845/227845 [==============================] - 2s 11us/sample - loss: 0.7361 - accuracy: 0.9082\n",
      "Epoch 22/50\n",
      "227845/227845 [==============================] - 3s 13us/sample - loss: 0.7360 - accuracy: 0.9078s - loss: 0\n",
      "Epoch 23/50\n",
      "227845/227845 [==============================] - 3s 14us/sample - loss: 0.7359 - accuracy: 0.9076s - loss:\n",
      "Epoch 24/50\n",
      "227845/227845 [==============================] - 2s 10us/sample - loss: 0.7358 - accuracy: 0.9078\n",
      "Epoch 25/50\n",
      "227845/227845 [==============================] - 3s 13us/sample - loss: 0.7357 - accuracy: 0.9080\n",
      "Epoch 26/50\n",
      "227845/227845 [==============================] - 3s 15us/sample - loss: 0.7356 - accuracy: 0.9075\n",
      "Epoch 27/50\n",
      "227845/227845 [==============================] - 3s 13us/sample - loss: 0.7355 - accuracy: 0.9080\n",
      "Epoch 28/50\n",
      "227845/227845 [==============================] - 3s 14us/sample - loss: 0.7354 - accuracy: 0.9077\n",
      "Epoch 29/50\n",
      "227845/227845 [==============================] - 3s 13us/sample - loss: 0.7353 - accuracy: 0.9079\n",
      "Epoch 30/50\n",
      "227845/227845 [==============================] - 3s 14us/sample - loss: 0.7353 - accuracy: 0.9073\n",
      "Epoch 31/50\n",
      "227845/227845 [==============================] - 3s 15us/sample - loss: 0.7352 - accuracy: 0.9077\n",
      "Epoch 32/50\n",
      "227845/227845 [==============================] - 3s 13us/sample - loss: 0.7352 - accuracy: 0.9065\n",
      "Epoch 33/50\n",
      "227845/227845 [==============================] - 3s 15us/sample - loss: 0.7351 - accuracy: 0.9073\n",
      "Epoch 34/50\n",
      "227845/227845 [==============================] - 4s 16us/sample - loss: 0.7351 - accuracy: 0.9066\n",
      "Epoch 35/50\n",
      "227845/227845 [==============================] - 4s 16us/sample - loss: 0.7350 - accuracy: 0.9062\n",
      "Epoch 36/50\n",
      "227845/227845 [==============================] - 4s 15us/sample - loss: 0.7349 - accuracy: 0.9062\n",
      "Epoch 37/50\n",
      "227845/227845 [==============================] - 5s 22us/sample - loss: 0.7349 - accuracy: 0.9063\n",
      "Epoch 38/50\n",
      "227845/227845 [==============================] - 5s 21us/sample - loss: 0.7349 - accuracy: 0.9053\n",
      "Epoch 39/50\n",
      "227845/227845 [==============================] - 4s 16us/sample - loss: 0.7348 - accuracy: 0.9054\n",
      "Epoch 40/50\n",
      "227845/227845 [==============================] - 3s 15us/sample - loss: 0.7348 - accuracy: 0.9058\n",
      "Epoch 41/50\n",
      "227845/227845 [==============================] - 3s 14us/sample - loss: 0.7348 - accuracy: 0.9053\n",
      "Epoch 42/50\n",
      "227845/227845 [==============================] - 3s 14us/sample - loss: 0.7347 - accuracy: 0.9051\n",
      "Epoch 43/50\n",
      "227845/227845 [==============================] - 3s 11us/sample - loss: 0.7347 - accuracy: 0.9044\n",
      "Epoch 44/50\n",
      "227845/227845 [==============================] - 4s 17us/sample - loss: 0.7346 - accuracy: 0.9046\n",
      "Epoch 45/50\n",
      "227845/227845 [==============================] - 3s 15us/sample - loss: 0.7346 - accuracy: 0.9045\n",
      "Epoch 46/50\n",
      "227845/227845 [==============================] - 4s 16us/sample - loss: 0.7347 - accuracy: 0.9033\n",
      "Epoch 47/50\n",
      "227845/227845 [==============================] - 3s 14us/sample - loss: 0.7345 - accuracy: 0.9049\n",
      "Epoch 48/50\n",
      "227845/227845 [==============================] - 4s 18us/sample - loss: 0.7345 - accuracy: 0.9047\n",
      "Epoch 49/50\n",
      "227845/227845 [==============================] - 4s 16us/sample - loss: 0.7345 - accuracy: 0.9046\n",
      "Epoch 50/50\n",
      "227845/227845 [==============================] - 3s 15us/sample - loss: 0.7345 - accuracy: 0.9044\n"
     ]
    }
   ],
   "source": [
    "model = autoencoder_function(nv, nh, optimizer='adam', loss='mean_squared_error', metrics=['accuracy'])\n",
    "history = model.fit(X_train, X_train, epochs=epochs, batch_size=batch_size, shuffle=True)"
   ]
  },
  {
   "cell_type": "markdown",
   "id": "308c5cff",
   "metadata": {},
   "source": [
    "## Obtain predictions"
   ]
  },
  {
   "cell_type": "code",
   "execution_count": 21,
   "id": "7a5ed372",
   "metadata": {},
   "outputs": [
    {
     "data": {
      "text/html": [
       "<div>\n",
       "<style scoped>\n",
       "    .dataframe tbody tr th:only-of-type {\n",
       "        vertical-align: middle;\n",
       "    }\n",
       "\n",
       "    .dataframe tbody tr th {\n",
       "        vertical-align: top;\n",
       "    }\n",
       "\n",
       "    .dataframe thead th {\n",
       "        text-align: right;\n",
       "    }\n",
       "</style>\n",
       "<table border=\"1\" class=\"dataframe\">\n",
       "  <thead>\n",
       "    <tr style=\"text-align: right;\">\n",
       "      <th></th>\n",
       "      <th>reconstruction_error</th>\n",
       "    </tr>\n",
       "  </thead>\n",
       "  <tbody>\n",
       "    <tr>\n",
       "      <th>43428</th>\n",
       "      <td>80.218306</td>\n",
       "    </tr>\n",
       "    <tr>\n",
       "      <th>49906</th>\n",
       "      <td>0.711055</td>\n",
       "    </tr>\n",
       "    <tr>\n",
       "      <th>29474</th>\n",
       "      <td>0.185268</td>\n",
       "    </tr>\n",
       "    <tr>\n",
       "      <th>276481</th>\n",
       "      <td>0.289870</td>\n",
       "    </tr>\n",
       "    <tr>\n",
       "      <th>278846</th>\n",
       "      <td>0.166483</td>\n",
       "    </tr>\n",
       "  </tbody>\n",
       "</table>\n",
       "</div>"
      ],
      "text/plain": [
       "        reconstruction_error\n",
       "43428              80.218306\n",
       "49906               0.711055\n",
       "29474               0.185268\n",
       "276481              0.289870\n",
       "278846              0.166483"
      ]
     },
     "execution_count": 21,
     "metadata": {},
     "output_type": "execute_result"
    }
   ],
   "source": [
    "threshold = 2.9 # Set threshold for reconstruction error\n",
    "threshold = 25 # Set threshold for reconstruction error\n",
    "\n",
    "predictions = model.predict(X_test)\n",
    "se = np.mean(np.power(X_test - predictions, 2), axis = 1)\n",
    "mse = np.mean(np.power(X_test - predictions, 2), axis = 1)\n",
    "error_df = pd.DataFrame({'reconstruction_error': mse})\n",
    "\n",
    "error_df.head()"
   ]
  },
  {
   "cell_type": "markdown",
   "id": "c81170b8",
   "metadata": {},
   "source": [
    "## Visualize [Chart]\n"
   ]
  },
  {
   "cell_type": "code",
   "execution_count": 22,
   "id": "65d68dc3",
   "metadata": {},
   "outputs": [
    {
     "data": {
      "image/png": "[encoded data removed]",
      "text/plain": [
       "<Figure size 432x288 with 1 Axes>"
      ]
     },
     "metadata": {
      "needs_background": "light"
     },
     "output_type": "display_data"
    }
   ],
   "source": [
    "fig, ax = plt.subplots()\n",
    "\n",
    "ax.plot(error_df.index, error_df.reconstruction_error, marker='o', ms=3.5, linestyle='')\n",
    "ax.hlines(threshold, ax.get_xlim()[0], ax.get_xlim()[1], colors='r', zorder=100, label='Threshold')\n",
    "ax.legend()\n",
    "plt.title('Reconstruction error for unlabelled data')\n",
    "plt.ylabel('Reconstruction error')\n",
    "plt.xlabel('Data point index')\n",
    "plt.show()"
   ]
  },
  {
   "cell_type": "code",
   "execution_count": 23,
   "id": "672fab5a",
   "metadata": {},
   "outputs": [],
   "source": [
    "model.save('Models/model_unsupervised_AE.h5')"
   ]
  },
  {
   "cell_type": "code",
   "execution_count": null,
   "id": "ab7dcdf3",
   "metadata": {},
   "outputs": [],
   "source": []
  }
 ],
 "metadata": {
  "kernelspec": {
   "display_name": "Python 3",
   "language": "python",
   "name": "python3"
  },
  "language_info": {
   "codemirror_mode": {
    "name": "ipython",
    "version": 3
   },
   "file_extension": ".py",
   "mimetype": "text/x-python",
   "name": "python",
   "nbconvert_exporter": "python",
   "pygments_lexer": "ipython3",
   "version": "3.8.8"
  }
 },
 "nbformat": 4,
 "nbformat_minor": 5
}
