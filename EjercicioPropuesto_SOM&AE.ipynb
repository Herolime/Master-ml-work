{
 "cells": [
  {
   "cell_type": "markdown",
   "id": "cc8f8d19",
   "metadata": {},
   "source": [
    "# Declaring necessary imports "
   ]
  },
  {
   "cell_type": "code",
   "execution_count": 20,
   "id": "4ca0d469",
   "metadata": {},
   "outputs": [],
   "source": [
    "import pandas as pd\n",
    "import numpy as np\n",
    "import matplotlib.pyplot as plt\n",
    "import seaborn as sns\n",
    "import tensorflow as tf\n",
    "import scipy.stats as stats\n",
    "\n",
    "from tensorflow.keras.layers import Input, Dense\n",
    "from tensorflow.keras.models import Model\n",
    "from tensorflow.keras import regularizers\n",
    "\n",
    "from sklearn.model_selection import train_test_split\n",
    "from sklearn.preprocessing import MinMaxScaler\n",
    "from sklearn.metrics import confusion_matrix, f1_score\n",
    "from scipy.io import arff\n",
    "from pylab import bone, pcolor, colorbar"
   ]
  },
  {
   "cell_type": "markdown",
   "id": "86c2c292",
   "metadata": {},
   "source": [
    "# Function for builiding AutoEncoder model"
   ]
  },
  {
   "cell_type": "code",
   "execution_count": 2,
   "id": "45926718",
   "metadata": {},
   "outputs": [],
   "source": [
    "def autoencoder_function(nv, nh, optimizer='adam', loss='mean_squared_error', metrics=['accuracy']):\n",
    "    \"\"\"\n",
    "    Main function to define the AE Neural Network.\n",
    "    \n",
    "    Parameters\n",
    "    ----------\n",
    "    nv: TYPE\n",
    "    DESCRIPTION.\n",
    "    nh : TYPE\n",
    "    DESCRIPTION.\n",
    "    optimizer : TYPE, optional\n",
    "    DESCRIPTION. The default is \"adam\".\n",
    "    loss : TYPE, optional\n",
    "    DESCRIPTION. The default is 'mean_squared_error'.\n",
    "    metrics : TYPE, optional\n",
    "    DESCRIPTION. The default is ['accuracy'].\n",
    "    \n",
    "    Returns\n",
    "    -------\n",
    "    autoencoder: TYPE.\n",
    "        DESCRIPTION.\n",
    "    \"\"\"\n",
    "    \n",
    "    #Define input\n",
    "    input_layer = Input(shape=(nv,))\n",
    "    \n",
    "    #Encoding\n",
    "    encoder = Dense(nh, activation='relu', activity_regularizer=regularizers.l1(10e-5)) (input_layer)\n",
    "    \n",
    "    #Decoding\n",
    "    decoder = Dense(nv, activation='sigmoid') (encoder)\n",
    "    \n",
    "    #Model\n",
    "    autoencoder = Model(inputs=input_layer, outputs=decoder)\n",
    "    autoencoder.compile(optimizer=optimizer, loss=loss, metrics=metrics)\n",
    "    \n",
    "    return autoencoder\n",
    "    "
   ]
  },
  {
   "cell_type": "markdown",
   "id": "a4051ae4",
   "metadata": {},
   "source": [
    "# Defining SOM"
   ]
  },
  {
   "cell_type": "code",
   "execution_count": 23,
   "id": "306254dc",
   "metadata": {},
   "outputs": [],
   "source": [
    "class SOM():\n",
    "    def __init__(self, m, n, dim, num_iterations=1, learning_rate=0.5, sigma=None):\n",
    "        self._m = m\n",
    "        self._n = n\n",
    "        self._neighborhood = []\n",
    "        self._topography = []\n",
    "        self._num_iterations = int(num_iterations)\n",
    "        self._learned = False\n",
    "        self.dim = dim\n",
    "        self.d = 0\n",
    "        \n",
    "        if sigma is None:\n",
    "            sigma = max(m, n)/2.0 # Constant radius\n",
    "        else:\n",
    "            sigma = float(sigma)\n",
    "            \n",
    "        self.learning_rate = learning_rate\n",
    "        self.learning_rate_0 = learning_rate\n",
    "        self.sigma = sigma\n",
    "        self.sigma_0 = sigma\n",
    "        \n",
    "        print('Network created with dimensions', m, n)\n",
    "        \n",
    "        #Weight Matrix and the topography of neurons\n",
    "        self._W = tf.random.normal([m*n, dim], seed=0)\n",
    "        \n",
    "        #Topography nos define un array de (30x30) x 2 (900 x 2) donde cada fila representa las coordenadas en el\n",
    "        #mapa de esa unidad. Por ejemplo la unidad 5 de la lista esta en las coordenadas [0,5], la 200 en la [6, 20]\n",
    "        #y la ultima es la [30, 30]\n",
    "        self._topography = np.array(list(self._neuron_location(m, n)))\n",
    "        \n",
    "    #Funcion para generar las posiciones en la malla para un array de unidades\n",
    "    def _neuron_location(self, m, n):\n",
    "        for i in range(m):\n",
    "            for j in range(n):\n",
    "                yield np.array([i,j])\n",
    "                \n",
    "    def training(self, x, i):\n",
    "        m = self._m\n",
    "        n = self._n\n",
    "        \n",
    "        #1. Obtencion de las distancias y seleccion de BMU(idx)\n",
    "        d = tf.sqrt(tf.reduce_sum(tf.pow(self._W - tf.stack([x for i in range(m*n)]), 2), 1))\n",
    "        self.BMU_idx = tf.argmin(d, 0)\n",
    "        self.d = d\n",
    "        \n",
    "        #2. Obtener BMU para el idx\n",
    "        self.BMU_loc = self._topography[self.BMU_idx]\n",
    "        \n",
    "        #3. Actualizar sigma y learning rate\n",
    "        lambda_coeff = self._num_iterations/self.sigma_0\n",
    "        learning_rate = self.learning_rate_0*np.exp(-1/lambda_coeff)\n",
    "        sigma = self.sigma_0*np.exp(-1/lambda_coeff)\n",
    "        \n",
    "        #4. Calcular b_ij\n",
    "        beta_ij = np.exp((-d**2)/(2*sigma**2))\n",
    "        \n",
    "        #5. Eligir vecinos\n",
    "        neighbs = [self._check_point(p[0], p[1], self.BMU_loc[0], self.BMU_loc[1], sigma) for p in self._topography]\n",
    "        \n",
    "        #6. Coeficiente para actualizar pesos\n",
    "        weight_multiplier = tf.math.multiply(beta_ij, neighbs)\n",
    "        weight_multiplier = tf.math.multiply(learning_rate, weight_multiplier)\n",
    "        \n",
    "        #7. Valor para actualizar pesos\n",
    "        delta_W = tf.subtract(tf.stack([x for i in range(m*n)]), self._W)\n",
    "        weight_multiplier = tf.stack([weight_multiplier for i in range(n_dim)], axis=1)\n",
    "        update_value = tf.multiply(weight_multiplier, weight_multiplier)\n",
    "        update_value = tf.multiply(weight_multiplier, delta_W)\n",
    "        \n",
    "        #8. Actualización pesos\n",
    "        new_W = self._W + update_value\n",
    "        self._w = new_W\n",
    "        \n",
    "    #Comprobar si un punto esta dentro del radio alrededor del otro\n",
    "    def _check_point(self, x, y, center_x, center_y, radius):\n",
    "        check = (x - center_x)**2 + (y - center_y)**2 < radius**2\n",
    "        if check == True:\n",
    "            return 1\n",
    "        else:\n",
    "            return 0\n",
    "        \n",
    "    def fit(self, X):\n",
    "        #Preparar datos de entrada\n",
    "        np.random.shuffle(X)\n",
    "        X = tf.cast(X, tf.float32)\n",
    "        \n",
    "        #Iteraciones\n",
    "        for i in range(self._num_iterations):\n",
    "            for x in X:\n",
    "                self.training(x, i)\n",
    "                \n",
    "        #Guardar información\n",
    "        self._Wts = list(self._w)\n",
    "        self._locations = list(self._topography)\n",
    "        self._learned = True\n",
    "        \n",
    "    def winner(self, X):\n",
    "        if not self._learned:\n",
    "            raise ValueError('SOM not trained yet')\n",
    "            \n",
    "        return self.BMU_loc.numpy()\n",
    "    \n",
    "    def map_vects(self, X):\n",
    "        if not self._learned:\n",
    "            raise ValueError('SOM not trained yet')\n",
    "            \n",
    "        to_return = []\n",
    "        for vect in X:\n",
    "            min_index = min([i for i in range(len(self._Wts))], key=lambda x: np.linalg.norm(vect - self._Wts[x]))\n",
    "            to_return.append(self._locations[min_index])\n",
    "            \n",
    "        return to_return\n",
    "    \n",
    "    def distance_map(self):\n",
    "        if not self._learned:\n",
    "            raise ValueError('SOM not trained yet')\n",
    "            \n",
    "        mapping = tf.reshape(self.d, shape=(self._m, self._n)).numpy()\n",
    "        return mapping"
   ]
  },
  {
   "cell_type": "markdown",
   "id": "936295a8",
   "metadata": {},
   "source": [
    "# I. Preparing the data\n",
    "## Loading dataset"
   ]
  },
  {
   "cell_type": "code",
   "execution_count": 4,
   "id": "a8b7fd6b",
   "metadata": {},
   "outputs": [
    {
     "data": {
      "text/html": [
       "<div>\n",
       "<style scoped>\n",
       "    .dataframe tbody tr th:only-of-type {\n",
       "        vertical-align: middle;\n",
       "    }\n",
       "\n",
       "    .dataframe tbody tr th {\n",
       "        vertical-align: top;\n",
       "    }\n",
       "\n",
       "    .dataframe thead th {\n",
       "        text-align: right;\n",
       "    }\n",
       "</style>\n",
       "<table border=\"1\" class=\"dataframe\">\n",
       "  <thead>\n",
       "    <tr style=\"text-align: right;\">\n",
       "      <th></th>\n",
       "      <th>seismic</th>\n",
       "      <th>seismoacoustic</th>\n",
       "      <th>shift</th>\n",
       "      <th>genergy</th>\n",
       "      <th>gpuls</th>\n",
       "      <th>gdenergy</th>\n",
       "      <th>gdpuls</th>\n",
       "      <th>ghazard</th>\n",
       "      <th>nbumps</th>\n",
       "      <th>nbumps2</th>\n",
       "      <th>nbumps3</th>\n",
       "      <th>nbumps4</th>\n",
       "      <th>nbumps5</th>\n",
       "      <th>nbumps6</th>\n",
       "      <th>nbumps7</th>\n",
       "      <th>nbumps89</th>\n",
       "      <th>energy</th>\n",
       "      <th>maxenergy</th>\n",
       "      <th>class</th>\n",
       "    </tr>\n",
       "  </thead>\n",
       "  <tbody>\n",
       "    <tr>\n",
       "      <th>0</th>\n",
       "      <td>a</td>\n",
       "      <td>a</td>\n",
       "      <td>N</td>\n",
       "      <td>15180.0</td>\n",
       "      <td>48.0</td>\n",
       "      <td>-72.0</td>\n",
       "      <td>-72.0</td>\n",
       "      <td>a</td>\n",
       "      <td>0.0</td>\n",
       "      <td>0.0</td>\n",
       "      <td>0.0</td>\n",
       "      <td>0.0</td>\n",
       "      <td>0.0</td>\n",
       "      <td>0.0</td>\n",
       "      <td>0.0</td>\n",
       "      <td>0.0</td>\n",
       "      <td>0.0</td>\n",
       "      <td>0.0</td>\n",
       "      <td>0</td>\n",
       "    </tr>\n",
       "    <tr>\n",
       "      <th>1</th>\n",
       "      <td>a</td>\n",
       "      <td>a</td>\n",
       "      <td>N</td>\n",
       "      <td>14720.0</td>\n",
       "      <td>33.0</td>\n",
       "      <td>-70.0</td>\n",
       "      <td>-79.0</td>\n",
       "      <td>a</td>\n",
       "      <td>1.0</td>\n",
       "      <td>0.0</td>\n",
       "      <td>1.0</td>\n",
       "      <td>0.0</td>\n",
       "      <td>0.0</td>\n",
       "      <td>0.0</td>\n",
       "      <td>0.0</td>\n",
       "      <td>0.0</td>\n",
       "      <td>2000.0</td>\n",
       "      <td>2000.0</td>\n",
       "      <td>0</td>\n",
       "    </tr>\n",
       "    <tr>\n",
       "      <th>2</th>\n",
       "      <td>a</td>\n",
       "      <td>a</td>\n",
       "      <td>N</td>\n",
       "      <td>8050.0</td>\n",
       "      <td>30.0</td>\n",
       "      <td>-81.0</td>\n",
       "      <td>-78.0</td>\n",
       "      <td>a</td>\n",
       "      <td>0.0</td>\n",
       "      <td>0.0</td>\n",
       "      <td>0.0</td>\n",
       "      <td>0.0</td>\n",
       "      <td>0.0</td>\n",
       "      <td>0.0</td>\n",
       "      <td>0.0</td>\n",
       "      <td>0.0</td>\n",
       "      <td>0.0</td>\n",
       "      <td>0.0</td>\n",
       "      <td>0</td>\n",
       "    </tr>\n",
       "    <tr>\n",
       "      <th>3</th>\n",
       "      <td>a</td>\n",
       "      <td>a</td>\n",
       "      <td>N</td>\n",
       "      <td>28820.0</td>\n",
       "      <td>171.0</td>\n",
       "      <td>-23.0</td>\n",
       "      <td>40.0</td>\n",
       "      <td>a</td>\n",
       "      <td>1.0</td>\n",
       "      <td>0.0</td>\n",
       "      <td>1.0</td>\n",
       "      <td>0.0</td>\n",
       "      <td>0.0</td>\n",
       "      <td>0.0</td>\n",
       "      <td>0.0</td>\n",
       "      <td>0.0</td>\n",
       "      <td>3000.0</td>\n",
       "      <td>3000.0</td>\n",
       "      <td>0</td>\n",
       "    </tr>\n",
       "    <tr>\n",
       "      <th>4</th>\n",
       "      <td>a</td>\n",
       "      <td>a</td>\n",
       "      <td>N</td>\n",
       "      <td>12640.0</td>\n",
       "      <td>57.0</td>\n",
       "      <td>-63.0</td>\n",
       "      <td>-52.0</td>\n",
       "      <td>a</td>\n",
       "      <td>0.0</td>\n",
       "      <td>0.0</td>\n",
       "      <td>0.0</td>\n",
       "      <td>0.0</td>\n",
       "      <td>0.0</td>\n",
       "      <td>0.0</td>\n",
       "      <td>0.0</td>\n",
       "      <td>0.0</td>\n",
       "      <td>0.0</td>\n",
       "      <td>0.0</td>\n",
       "      <td>0</td>\n",
       "    </tr>\n",
       "  </tbody>\n",
       "</table>\n",
       "</div>"
      ],
      "text/plain": [
       "  seismic seismoacoustic shift  genergy  gpuls  gdenergy  gdpuls ghazard  \\\n",
       "0       a              a     N  15180.0   48.0     -72.0   -72.0       a   \n",
       "1       a              a     N  14720.0   33.0     -70.0   -79.0       a   \n",
       "2       a              a     N   8050.0   30.0     -81.0   -78.0       a   \n",
       "3       a              a     N  28820.0  171.0     -23.0    40.0       a   \n",
       "4       a              a     N  12640.0   57.0     -63.0   -52.0       a   \n",
       "\n",
       "   nbumps  nbumps2  nbumps3  nbumps4  nbumps5  nbumps6  nbumps7  nbumps89  \\\n",
       "0     0.0      0.0      0.0      0.0      0.0      0.0      0.0       0.0   \n",
       "1     1.0      0.0      1.0      0.0      0.0      0.0      0.0       0.0   \n",
       "2     0.0      0.0      0.0      0.0      0.0      0.0      0.0       0.0   \n",
       "3     1.0      0.0      1.0      0.0      0.0      0.0      0.0       0.0   \n",
       "4     0.0      0.0      0.0      0.0      0.0      0.0      0.0       0.0   \n",
       "\n",
       "   energy  maxenergy  class  \n",
       "0     0.0        0.0      0  \n",
       "1  2000.0     2000.0      0  \n",
       "2     0.0        0.0      0  \n",
       "3  3000.0     3000.0      0  \n",
       "4     0.0        0.0      0  "
      ]
     },
     "execution_count": 4,
     "metadata": {},
     "output_type": "execute_result"
    }
   ],
   "source": [
    "data = arff.loadarff('Data_Sources/seismic-bumps.arff')\n",
    "df = pd.DataFrame(data[0])\n",
    "df['class'] = df['class'].astype(int)\n",
    "df['seismic'] = df['seismic'].str.decode('utf-8')\n",
    "df['seismoacoustic'] = df['seismoacoustic'].str.decode('utf-8')\n",
    "df['shift'] = df['shift'].str.decode('utf-8')\n",
    "df['ghazard'] = df['ghazard'].str.decode('utf-8')\n",
    "df.head()"
   ]
  },
  {
   "cell_type": "markdown",
   "id": "bd000252",
   "metadata": {},
   "source": [
    "## Label Encoding"
   ]
  },
  {
   "cell_type": "code",
   "execution_count": 5,
   "id": "43f6df52",
   "metadata": {},
   "outputs": [
    {
     "data": {
      "text/html": [
       "<div>\n",
       "<style scoped>\n",
       "    .dataframe tbody tr th:only-of-type {\n",
       "        vertical-align: middle;\n",
       "    }\n",
       "\n",
       "    .dataframe tbody tr th {\n",
       "        vertical-align: top;\n",
       "    }\n",
       "\n",
       "    .dataframe thead th {\n",
       "        text-align: right;\n",
       "    }\n",
       "</style>\n",
       "<table border=\"1\" class=\"dataframe\">\n",
       "  <thead>\n",
       "    <tr style=\"text-align: right;\">\n",
       "      <th></th>\n",
       "      <th>genergy</th>\n",
       "      <th>gpuls</th>\n",
       "      <th>gdenergy</th>\n",
       "      <th>gdpuls</th>\n",
       "      <th>nbumps</th>\n",
       "      <th>nbumps2</th>\n",
       "      <th>nbumps3</th>\n",
       "      <th>nbumps4</th>\n",
       "      <th>nbumps5</th>\n",
       "      <th>nbumps6</th>\n",
       "      <th>...</th>\n",
       "      <th>nbumps89</th>\n",
       "      <th>energy</th>\n",
       "      <th>maxenergy</th>\n",
       "      <th>class</th>\n",
       "      <th>seismic_b</th>\n",
       "      <th>seismoacoustic_b</th>\n",
       "      <th>seismoacoustic_c</th>\n",
       "      <th>shift_W</th>\n",
       "      <th>ghazard_b</th>\n",
       "      <th>ghazard_c</th>\n",
       "    </tr>\n",
       "  </thead>\n",
       "  <tbody>\n",
       "    <tr>\n",
       "      <th>0</th>\n",
       "      <td>15180.0</td>\n",
       "      <td>48.0</td>\n",
       "      <td>-72.0</td>\n",
       "      <td>-72.0</td>\n",
       "      <td>0.0</td>\n",
       "      <td>0.0</td>\n",
       "      <td>0.0</td>\n",
       "      <td>0.0</td>\n",
       "      <td>0.0</td>\n",
       "      <td>0.0</td>\n",
       "      <td>...</td>\n",
       "      <td>0.0</td>\n",
       "      <td>0.0</td>\n",
       "      <td>0.0</td>\n",
       "      <td>0</td>\n",
       "      <td>0</td>\n",
       "      <td>0</td>\n",
       "      <td>0</td>\n",
       "      <td>0</td>\n",
       "      <td>0</td>\n",
       "      <td>0</td>\n",
       "    </tr>\n",
       "    <tr>\n",
       "      <th>1</th>\n",
       "      <td>14720.0</td>\n",
       "      <td>33.0</td>\n",
       "      <td>-70.0</td>\n",
       "      <td>-79.0</td>\n",
       "      <td>1.0</td>\n",
       "      <td>0.0</td>\n",
       "      <td>1.0</td>\n",
       "      <td>0.0</td>\n",
       "      <td>0.0</td>\n",
       "      <td>0.0</td>\n",
       "      <td>...</td>\n",
       "      <td>0.0</td>\n",
       "      <td>2000.0</td>\n",
       "      <td>2000.0</td>\n",
       "      <td>0</td>\n",
       "      <td>0</td>\n",
       "      <td>0</td>\n",
       "      <td>0</td>\n",
       "      <td>0</td>\n",
       "      <td>0</td>\n",
       "      <td>0</td>\n",
       "    </tr>\n",
       "    <tr>\n",
       "      <th>2</th>\n",
       "      <td>8050.0</td>\n",
       "      <td>30.0</td>\n",
       "      <td>-81.0</td>\n",
       "      <td>-78.0</td>\n",
       "      <td>0.0</td>\n",
       "      <td>0.0</td>\n",
       "      <td>0.0</td>\n",
       "      <td>0.0</td>\n",
       "      <td>0.0</td>\n",
       "      <td>0.0</td>\n",
       "      <td>...</td>\n",
       "      <td>0.0</td>\n",
       "      <td>0.0</td>\n",
       "      <td>0.0</td>\n",
       "      <td>0</td>\n",
       "      <td>0</td>\n",
       "      <td>0</td>\n",
       "      <td>0</td>\n",
       "      <td>0</td>\n",
       "      <td>0</td>\n",
       "      <td>0</td>\n",
       "    </tr>\n",
       "    <tr>\n",
       "      <th>3</th>\n",
       "      <td>28820.0</td>\n",
       "      <td>171.0</td>\n",
       "      <td>-23.0</td>\n",
       "      <td>40.0</td>\n",
       "      <td>1.0</td>\n",
       "      <td>0.0</td>\n",
       "      <td>1.0</td>\n",
       "      <td>0.0</td>\n",
       "      <td>0.0</td>\n",
       "      <td>0.0</td>\n",
       "      <td>...</td>\n",
       "      <td>0.0</td>\n",
       "      <td>3000.0</td>\n",
       "      <td>3000.0</td>\n",
       "      <td>0</td>\n",
       "      <td>0</td>\n",
       "      <td>0</td>\n",
       "      <td>0</td>\n",
       "      <td>0</td>\n",
       "      <td>0</td>\n",
       "      <td>0</td>\n",
       "    </tr>\n",
       "    <tr>\n",
       "      <th>4</th>\n",
       "      <td>12640.0</td>\n",
       "      <td>57.0</td>\n",
       "      <td>-63.0</td>\n",
       "      <td>-52.0</td>\n",
       "      <td>0.0</td>\n",
       "      <td>0.0</td>\n",
       "      <td>0.0</td>\n",
       "      <td>0.0</td>\n",
       "      <td>0.0</td>\n",
       "      <td>0.0</td>\n",
       "      <td>...</td>\n",
       "      <td>0.0</td>\n",
       "      <td>0.0</td>\n",
       "      <td>0.0</td>\n",
       "      <td>0</td>\n",
       "      <td>0</td>\n",
       "      <td>0</td>\n",
       "      <td>0</td>\n",
       "      <td>0</td>\n",
       "      <td>0</td>\n",
       "      <td>0</td>\n",
       "    </tr>\n",
       "  </tbody>\n",
       "</table>\n",
       "<p>5 rows × 21 columns</p>\n",
       "</div>"
      ],
      "text/plain": [
       "   genergy  gpuls  gdenergy  gdpuls  nbumps  nbumps2  nbumps3  nbumps4  \\\n",
       "0  15180.0   48.0     -72.0   -72.0     0.0      0.0      0.0      0.0   \n",
       "1  14720.0   33.0     -70.0   -79.0     1.0      0.0      1.0      0.0   \n",
       "2   8050.0   30.0     -81.0   -78.0     0.0      0.0      0.0      0.0   \n",
       "3  28820.0  171.0     -23.0    40.0     1.0      0.0      1.0      0.0   \n",
       "4  12640.0   57.0     -63.0   -52.0     0.0      0.0      0.0      0.0   \n",
       "\n",
       "   nbumps5  nbumps6  ...  nbumps89  energy  maxenergy  class  seismic_b  \\\n",
       "0      0.0      0.0  ...       0.0     0.0        0.0      0          0   \n",
       "1      0.0      0.0  ...       0.0  2000.0     2000.0      0          0   \n",
       "2      0.0      0.0  ...       0.0     0.0        0.0      0          0   \n",
       "3      0.0      0.0  ...       0.0  3000.0     3000.0      0          0   \n",
       "4      0.0      0.0  ...       0.0     0.0        0.0      0          0   \n",
       "\n",
       "   seismoacoustic_b  seismoacoustic_c  shift_W  ghazard_b  ghazard_c  \n",
       "0                 0                 0        0          0          0  \n",
       "1                 0                 0        0          0          0  \n",
       "2                 0                 0        0          0          0  \n",
       "3                 0                 0        0          0          0  \n",
       "4                 0                 0        0          0          0  \n",
       "\n",
       "[5 rows x 21 columns]"
      ]
     },
     "execution_count": 5,
     "metadata": {},
     "output_type": "execute_result"
    }
   ],
   "source": [
    "df = pd.get_dummies(df, drop_first=True)\n",
    "df.head()"
   ]
  },
  {
   "cell_type": "code",
   "execution_count": 7,
   "id": "87bffc02",
   "metadata": {},
   "outputs": [
    {
     "data": {
      "text/plain": [
       "0    0.934211\n",
       "1    0.065789\n",
       "Name: class, dtype: float64"
      ]
     },
     "execution_count": 7,
     "metadata": {},
     "output_type": "execute_result"
    }
   ],
   "source": [
    "df['class'].value_counts()/len(df)"
   ]
  },
  {
   "cell_type": "markdown",
   "id": "1cda76de",
   "metadata": {},
   "source": [
    "## Eliminate low variance cols"
   ]
  },
  {
   "cell_type": "code",
   "execution_count": 6,
   "id": "94892a53",
   "metadata": {},
   "outputs": [
    {
     "data": {
      "text/html": [
       "<div>\n",
       "<style scoped>\n",
       "    .dataframe tbody tr th:only-of-type {\n",
       "        vertical-align: middle;\n",
       "    }\n",
       "\n",
       "    .dataframe tbody tr th {\n",
       "        vertical-align: top;\n",
       "    }\n",
       "\n",
       "    .dataframe thead th {\n",
       "        text-align: right;\n",
       "    }\n",
       "</style>\n",
       "<table border=\"1\" class=\"dataframe\">\n",
       "  <thead>\n",
       "    <tr style=\"text-align: right;\">\n",
       "      <th></th>\n",
       "      <th>genergy</th>\n",
       "      <th>gpuls</th>\n",
       "      <th>gdenergy</th>\n",
       "      <th>gdpuls</th>\n",
       "      <th>nbumps</th>\n",
       "      <th>nbumps2</th>\n",
       "      <th>nbumps3</th>\n",
       "      <th>nbumps4</th>\n",
       "      <th>nbumps5</th>\n",
       "      <th>energy</th>\n",
       "      <th>maxenergy</th>\n",
       "      <th>class</th>\n",
       "      <th>seismic_b</th>\n",
       "      <th>seismoacoustic_b</th>\n",
       "      <th>seismoacoustic_c</th>\n",
       "      <th>shift_W</th>\n",
       "      <th>ghazard_b</th>\n",
       "      <th>ghazard_c</th>\n",
       "    </tr>\n",
       "  </thead>\n",
       "  <tbody>\n",
       "    <tr>\n",
       "      <th>0</th>\n",
       "      <td>15180.0</td>\n",
       "      <td>48.0</td>\n",
       "      <td>-72.0</td>\n",
       "      <td>-72.0</td>\n",
       "      <td>0.0</td>\n",
       "      <td>0.0</td>\n",
       "      <td>0.0</td>\n",
       "      <td>0.0</td>\n",
       "      <td>0.0</td>\n",
       "      <td>0.0</td>\n",
       "      <td>0.0</td>\n",
       "      <td>0</td>\n",
       "      <td>0</td>\n",
       "      <td>0</td>\n",
       "      <td>0</td>\n",
       "      <td>0</td>\n",
       "      <td>0</td>\n",
       "      <td>0</td>\n",
       "    </tr>\n",
       "    <tr>\n",
       "      <th>1</th>\n",
       "      <td>14720.0</td>\n",
       "      <td>33.0</td>\n",
       "      <td>-70.0</td>\n",
       "      <td>-79.0</td>\n",
       "      <td>1.0</td>\n",
       "      <td>0.0</td>\n",
       "      <td>1.0</td>\n",
       "      <td>0.0</td>\n",
       "      <td>0.0</td>\n",
       "      <td>2000.0</td>\n",
       "      <td>2000.0</td>\n",
       "      <td>0</td>\n",
       "      <td>0</td>\n",
       "      <td>0</td>\n",
       "      <td>0</td>\n",
       "      <td>0</td>\n",
       "      <td>0</td>\n",
       "      <td>0</td>\n",
       "    </tr>\n",
       "    <tr>\n",
       "      <th>2</th>\n",
       "      <td>8050.0</td>\n",
       "      <td>30.0</td>\n",
       "      <td>-81.0</td>\n",
       "      <td>-78.0</td>\n",
       "      <td>0.0</td>\n",
       "      <td>0.0</td>\n",
       "      <td>0.0</td>\n",
       "      <td>0.0</td>\n",
       "      <td>0.0</td>\n",
       "      <td>0.0</td>\n",
       "      <td>0.0</td>\n",
       "      <td>0</td>\n",
       "      <td>0</td>\n",
       "      <td>0</td>\n",
       "      <td>0</td>\n",
       "      <td>0</td>\n",
       "      <td>0</td>\n",
       "      <td>0</td>\n",
       "    </tr>\n",
       "    <tr>\n",
       "      <th>3</th>\n",
       "      <td>28820.0</td>\n",
       "      <td>171.0</td>\n",
       "      <td>-23.0</td>\n",
       "      <td>40.0</td>\n",
       "      <td>1.0</td>\n",
       "      <td>0.0</td>\n",
       "      <td>1.0</td>\n",
       "      <td>0.0</td>\n",
       "      <td>0.0</td>\n",
       "      <td>3000.0</td>\n",
       "      <td>3000.0</td>\n",
       "      <td>0</td>\n",
       "      <td>0</td>\n",
       "      <td>0</td>\n",
       "      <td>0</td>\n",
       "      <td>0</td>\n",
       "      <td>0</td>\n",
       "      <td>0</td>\n",
       "    </tr>\n",
       "    <tr>\n",
       "      <th>4</th>\n",
       "      <td>12640.0</td>\n",
       "      <td>57.0</td>\n",
       "      <td>-63.0</td>\n",
       "      <td>-52.0</td>\n",
       "      <td>0.0</td>\n",
       "      <td>0.0</td>\n",
       "      <td>0.0</td>\n",
       "      <td>0.0</td>\n",
       "      <td>0.0</td>\n",
       "      <td>0.0</td>\n",
       "      <td>0.0</td>\n",
       "      <td>0</td>\n",
       "      <td>0</td>\n",
       "      <td>0</td>\n",
       "      <td>0</td>\n",
       "      <td>0</td>\n",
       "      <td>0</td>\n",
       "      <td>0</td>\n",
       "    </tr>\n",
       "  </tbody>\n",
       "</table>\n",
       "</div>"
      ],
      "text/plain": [
       "   genergy  gpuls  gdenergy  gdpuls  nbumps  nbumps2  nbumps3  nbumps4  \\\n",
       "0  15180.0   48.0     -72.0   -72.0     0.0      0.0      0.0      0.0   \n",
       "1  14720.0   33.0     -70.0   -79.0     1.0      0.0      1.0      0.0   \n",
       "2   8050.0   30.0     -81.0   -78.0     0.0      0.0      0.0      0.0   \n",
       "3  28820.0  171.0     -23.0    40.0     1.0      0.0      1.0      0.0   \n",
       "4  12640.0   57.0     -63.0   -52.0     0.0      0.0      0.0      0.0   \n",
       "\n",
       "   nbumps5  energy  maxenergy  class  seismic_b  seismoacoustic_b  \\\n",
       "0      0.0     0.0        0.0      0          0                 0   \n",
       "1      0.0  2000.0     2000.0      0          0                 0   \n",
       "2      0.0     0.0        0.0      0          0                 0   \n",
       "3      0.0  3000.0     3000.0      0          0                 0   \n",
       "4      0.0     0.0        0.0      0          0                 0   \n",
       "\n",
       "   seismoacoustic_c  shift_W  ghazard_b  ghazard_c  \n",
       "0                 0        0          0          0  \n",
       "1                 0        0          0          0  \n",
       "2                 0        0          0          0  \n",
       "3                 0        0          0          0  \n",
       "4                 0        0          0          0  "
      ]
     },
     "execution_count": 6,
     "metadata": {},
     "output_type": "execute_result"
    }
   ],
   "source": [
    "cols_keep = [column for column in list(df.columns) if df[column].std()>0]\n",
    "df=df[cols_keep]\n",
    "df.head()"
   ]
  },
  {
   "cell_type": "markdown",
   "id": "aa647603",
   "metadata": {},
   "source": [
    "# II. Exploratory Data Analysis\n",
    "## Plot correlation"
   ]
  },
  {
   "cell_type": "code",
   "execution_count": 8,
   "id": "b0912d3a",
   "metadata": {},
   "outputs": [
    {
     "data": {
      "image/png": "[encoded data removed]",
      "text/plain": [
       "<Figure size 1440x1440 with 2 Axes>"
      ]
     },
     "metadata": {
      "needs_background": "light"
     },
     "output_type": "display_data"
    }
   ],
   "source": [
    "list_no = ['seismic_b', 'seismoacoustic_b','seismoacoustic_c', 'shift_W', 'ghazard_b', 'ghazard_c']\n",
    "cols= [x for x in list(df.columns) if x not in list_no]\n",
    "f, ax = plt.subplots(figsize=(20, 20))\n",
    "df_plot = df[cols] #columnas que no esten en obj_df\n",
    "sns.heatmap(df_plot.corr(method='spearman'), annot=True, fmt='.1f', linewidths=1, ax=ax)\n",
    "plt.show()"
   ]
  },
  {
   "cell_type": "markdown",
   "id": "1f5ed995",
   "metadata": {},
   "source": [
    "## ANOVA"
   ]
  },
  {
   "cell_type": "code",
   "execution_count": 9,
   "id": "4f61fbc1",
   "metadata": {},
   "outputs": [
    {
     "name": "stdout",
     "output_type": "stream",
     "text": [
      "ANOVA for seismic_b\n",
      "F_onewayResult(statistic=21.356901872363814, pvalue=3.999798007997421e-06)\n",
      "\n",
      "ANOVA for seismoacoustic_b\n",
      "F_onewayResult(statistic=0.26030552095122494, pvalue=0.6099539459472678)\n",
      "\n",
      "ANOVA for seismoacoustic_c\n",
      "F_onewayResult(statistic=0.008604018540960165, pvalue=0.9261031344898955)\n",
      "\n",
      "ANOVA for shift_W\n",
      "F_onewayResult(statistic=53.195573029878325, pvalue=3.9966222710548486e-13)\n",
      "\n",
      "ANOVA for ghazard_b\n",
      "F_onewayResult(statistic=0.0002314181198416004, pvalue=0.9878638779704311)\n",
      "\n",
      "ANOVA for ghazard_c\n",
      "F_onewayResult(statistic=2.1376059696220433, pvalue=0.14384772674207144)\n"
     ]
    }
   ],
   "source": [
    "print('ANOVA for seismic_b')\n",
    "print(stats.f_oneway(df[df['seismic_b']==0]['class'], df[df['seismic_b']==1]['class']))\n",
    "\n",
    "print()\n",
    "print('ANOVA for seismoacoustic_b')\n",
    "print(stats.f_oneway(df[df['seismoacoustic_b']==0]['class'], df[df['seismoacoustic_b']==1]['class']))\n",
    "\n",
    "print()\n",
    "print('ANOVA for seismoacoustic_c')\n",
    "print(stats.f_oneway(df[df['seismoacoustic_c']==0]['class'], df[df['seismoacoustic_c']==1]['class']))\n",
    "\n",
    "print()\n",
    "print('ANOVA for shift_W')\n",
    "print(stats.f_oneway(df[df['shift_W']==0]['class'], df[df['shift_W']==1]['class']))\n",
    "\n",
    "print()\n",
    "print('ANOVA for ghazard_b')\n",
    "print(stats.f_oneway(df[df['ghazard_b']==0]['class'], df[df['ghazard_b']==1]['class']))\n",
    "\n",
    "print()\n",
    "print('ANOVA for ghazard_c')\n",
    "print(stats.f_oneway(df[df['ghazard_c']==0]['class'], df[df['ghazard_c']==1]['class']))"
   ]
  },
  {
   "cell_type": "markdown",
   "id": "42c15221",
   "metadata": {},
   "source": [
    "## Drop columns"
   ]
  },
  {
   "cell_type": "code",
   "execution_count": 10,
   "id": "9fe48554",
   "metadata": {},
   "outputs": [
    {
     "data": {
      "text/html": [
       "<div>\n",
       "<style scoped>\n",
       "    .dataframe tbody tr th:only-of-type {\n",
       "        vertical-align: middle;\n",
       "    }\n",
       "\n",
       "    .dataframe tbody tr th {\n",
       "        vertical-align: top;\n",
       "    }\n",
       "\n",
       "    .dataframe thead th {\n",
       "        text-align: right;\n",
       "    }\n",
       "</style>\n",
       "<table border=\"1\" class=\"dataframe\">\n",
       "  <thead>\n",
       "    <tr style=\"text-align: right;\">\n",
       "      <th></th>\n",
       "      <th>genergy</th>\n",
       "      <th>gpuls</th>\n",
       "      <th>gdenergy</th>\n",
       "      <th>gdpuls</th>\n",
       "      <th>nbumps2</th>\n",
       "      <th>nbumps3</th>\n",
       "      <th>nbumps4</th>\n",
       "      <th>nbumps5</th>\n",
       "      <th>energy</th>\n",
       "      <th>class</th>\n",
       "      <th>seismic_b</th>\n",
       "      <th>seismoacoustic_b</th>\n",
       "      <th>seismoacoustic_c</th>\n",
       "      <th>shift_W</th>\n",
       "      <th>ghazard_b</th>\n",
       "      <th>ghazard_c</th>\n",
       "    </tr>\n",
       "  </thead>\n",
       "  <tbody>\n",
       "    <tr>\n",
       "      <th>0</th>\n",
       "      <td>15180.0</td>\n",
       "      <td>48.0</td>\n",
       "      <td>-72.0</td>\n",
       "      <td>-72.0</td>\n",
       "      <td>0.0</td>\n",
       "      <td>0.0</td>\n",
       "      <td>0.0</td>\n",
       "      <td>0.0</td>\n",
       "      <td>0.0</td>\n",
       "      <td>0</td>\n",
       "      <td>0</td>\n",
       "      <td>0</td>\n",
       "      <td>0</td>\n",
       "      <td>0</td>\n",
       "      <td>0</td>\n",
       "      <td>0</td>\n",
       "    </tr>\n",
       "    <tr>\n",
       "      <th>1</th>\n",
       "      <td>14720.0</td>\n",
       "      <td>33.0</td>\n",
       "      <td>-70.0</td>\n",
       "      <td>-79.0</td>\n",
       "      <td>0.0</td>\n",
       "      <td>1.0</td>\n",
       "      <td>0.0</td>\n",
       "      <td>0.0</td>\n",
       "      <td>2000.0</td>\n",
       "      <td>0</td>\n",
       "      <td>0</td>\n",
       "      <td>0</td>\n",
       "      <td>0</td>\n",
       "      <td>0</td>\n",
       "      <td>0</td>\n",
       "      <td>0</td>\n",
       "    </tr>\n",
       "    <tr>\n",
       "      <th>2</th>\n",
       "      <td>8050.0</td>\n",
       "      <td>30.0</td>\n",
       "      <td>-81.0</td>\n",
       "      <td>-78.0</td>\n",
       "      <td>0.0</td>\n",
       "      <td>0.0</td>\n",
       "      <td>0.0</td>\n",
       "      <td>0.0</td>\n",
       "      <td>0.0</td>\n",
       "      <td>0</td>\n",
       "      <td>0</td>\n",
       "      <td>0</td>\n",
       "      <td>0</td>\n",
       "      <td>0</td>\n",
       "      <td>0</td>\n",
       "      <td>0</td>\n",
       "    </tr>\n",
       "    <tr>\n",
       "      <th>3</th>\n",
       "      <td>28820.0</td>\n",
       "      <td>171.0</td>\n",
       "      <td>-23.0</td>\n",
       "      <td>40.0</td>\n",
       "      <td>0.0</td>\n",
       "      <td>1.0</td>\n",
       "      <td>0.0</td>\n",
       "      <td>0.0</td>\n",
       "      <td>3000.0</td>\n",
       "      <td>0</td>\n",
       "      <td>0</td>\n",
       "      <td>0</td>\n",
       "      <td>0</td>\n",
       "      <td>0</td>\n",
       "      <td>0</td>\n",
       "      <td>0</td>\n",
       "    </tr>\n",
       "    <tr>\n",
       "      <th>4</th>\n",
       "      <td>12640.0</td>\n",
       "      <td>57.0</td>\n",
       "      <td>-63.0</td>\n",
       "      <td>-52.0</td>\n",
       "      <td>0.0</td>\n",
       "      <td>0.0</td>\n",
       "      <td>0.0</td>\n",
       "      <td>0.0</td>\n",
       "      <td>0.0</td>\n",
       "      <td>0</td>\n",
       "      <td>0</td>\n",
       "      <td>0</td>\n",
       "      <td>0</td>\n",
       "      <td>0</td>\n",
       "      <td>0</td>\n",
       "      <td>0</td>\n",
       "    </tr>\n",
       "  </tbody>\n",
       "</table>\n",
       "</div>"
      ],
      "text/plain": [
       "   genergy  gpuls  gdenergy  gdpuls  nbumps2  nbumps3  nbumps4  nbumps5  \\\n",
       "0  15180.0   48.0     -72.0   -72.0      0.0      0.0      0.0      0.0   \n",
       "1  14720.0   33.0     -70.0   -79.0      0.0      1.0      0.0      0.0   \n",
       "2   8050.0   30.0     -81.0   -78.0      0.0      0.0      0.0      0.0   \n",
       "3  28820.0  171.0     -23.0    40.0      0.0      1.0      0.0      0.0   \n",
       "4  12640.0   57.0     -63.0   -52.0      0.0      0.0      0.0      0.0   \n",
       "\n",
       "   energy  class  seismic_b  seismoacoustic_b  seismoacoustic_c  shift_W  \\\n",
       "0     0.0      0          0                 0                 0        0   \n",
       "1  2000.0      0          0                 0                 0        0   \n",
       "2     0.0      0          0                 0                 0        0   \n",
       "3  3000.0      0          0                 0                 0        0   \n",
       "4     0.0      0          0                 0                 0        0   \n",
       "\n",
       "   ghazard_b  ghazard_c  \n",
       "0          0          0  \n",
       "1          0          0  \n",
       "2          0          0  \n",
       "3          0          0  \n",
       "4          0          0  "
      ]
     },
     "execution_count": 10,
     "metadata": {},
     "output_type": "execute_result"
    }
   ],
   "source": [
    "df = df.drop(columns=['maxenergy', 'nbumps'])\n",
    "df.head()"
   ]
  },
  {
   "cell_type": "markdown",
   "id": "82a5ed47",
   "metadata": {},
   "source": [
    "## Normalize"
   ]
  },
  {
   "cell_type": "code",
   "execution_count": 11,
   "id": "4acf3164",
   "metadata": {},
   "outputs": [
    {
     "data": {
      "text/html": [
       "<div>\n",
       "<style scoped>\n",
       "    .dataframe tbody tr th:only-of-type {\n",
       "        vertical-align: middle;\n",
       "    }\n",
       "\n",
       "    .dataframe tbody tr th {\n",
       "        vertical-align: top;\n",
       "    }\n",
       "\n",
       "    .dataframe thead th {\n",
       "        text-align: right;\n",
       "    }\n",
       "</style>\n",
       "<table border=\"1\" class=\"dataframe\">\n",
       "  <thead>\n",
       "    <tr style=\"text-align: right;\">\n",
       "      <th></th>\n",
       "      <th>genergy</th>\n",
       "      <th>gpuls</th>\n",
       "      <th>gdenergy</th>\n",
       "      <th>gdpuls</th>\n",
       "      <th>nbumps2</th>\n",
       "      <th>nbumps3</th>\n",
       "      <th>nbumps4</th>\n",
       "      <th>nbumps5</th>\n",
       "      <th>energy</th>\n",
       "      <th>class</th>\n",
       "      <th>seismic_b</th>\n",
       "      <th>seismoacoustic_b</th>\n",
       "      <th>seismoacoustic_c</th>\n",
       "      <th>shift_W</th>\n",
       "      <th>ghazard_b</th>\n",
       "      <th>ghazard_c</th>\n",
       "    </tr>\n",
       "  </thead>\n",
       "  <tbody>\n",
       "    <tr>\n",
       "      <th>0</th>\n",
       "      <td>0.005810</td>\n",
       "      <td>0.010186</td>\n",
       "      <td>0.017897</td>\n",
       "      <td>0.025696</td>\n",
       "      <td>0.0</td>\n",
       "      <td>0.000000</td>\n",
       "      <td>0.0</td>\n",
       "      <td>0.0</td>\n",
       "      <td>0.000000</td>\n",
       "      <td>0.0</td>\n",
       "      <td>0.0</td>\n",
       "      <td>0.0</td>\n",
       "      <td>0.0</td>\n",
       "      <td>0.0</td>\n",
       "      <td>0.0</td>\n",
       "      <td>0.0</td>\n",
       "    </tr>\n",
       "    <tr>\n",
       "      <th>1</th>\n",
       "      <td>0.005633</td>\n",
       "      <td>0.006864</td>\n",
       "      <td>0.019389</td>\n",
       "      <td>0.018201</td>\n",
       "      <td>0.0</td>\n",
       "      <td>0.142857</td>\n",
       "      <td>0.0</td>\n",
       "      <td>0.0</td>\n",
       "      <td>0.004975</td>\n",
       "      <td>0.0</td>\n",
       "      <td>0.0</td>\n",
       "      <td>0.0</td>\n",
       "      <td>0.0</td>\n",
       "      <td>0.0</td>\n",
       "      <td>0.0</td>\n",
       "      <td>0.0</td>\n",
       "    </tr>\n",
       "    <tr>\n",
       "      <th>2</th>\n",
       "      <td>0.003063</td>\n",
       "      <td>0.006200</td>\n",
       "      <td>0.011186</td>\n",
       "      <td>0.019272</td>\n",
       "      <td>0.0</td>\n",
       "      <td>0.000000</td>\n",
       "      <td>0.0</td>\n",
       "      <td>0.0</td>\n",
       "      <td>0.000000</td>\n",
       "      <td>0.0</td>\n",
       "      <td>0.0</td>\n",
       "      <td>0.0</td>\n",
       "      <td>0.0</td>\n",
       "      <td>0.0</td>\n",
       "      <td>0.0</td>\n",
       "      <td>0.0</td>\n",
       "    </tr>\n",
       "    <tr>\n",
       "      <th>3</th>\n",
       "      <td>0.011065</td>\n",
       "      <td>0.037422</td>\n",
       "      <td>0.054437</td>\n",
       "      <td>0.145610</td>\n",
       "      <td>0.0</td>\n",
       "      <td>0.142857</td>\n",
       "      <td>0.0</td>\n",
       "      <td>0.0</td>\n",
       "      <td>0.007463</td>\n",
       "      <td>0.0</td>\n",
       "      <td>0.0</td>\n",
       "      <td>0.0</td>\n",
       "      <td>0.0</td>\n",
       "      <td>0.0</td>\n",
       "      <td>0.0</td>\n",
       "      <td>0.0</td>\n",
       "    </tr>\n",
       "    <tr>\n",
       "      <th>4</th>\n",
       "      <td>0.004831</td>\n",
       "      <td>0.012179</td>\n",
       "      <td>0.024609</td>\n",
       "      <td>0.047109</td>\n",
       "      <td>0.0</td>\n",
       "      <td>0.000000</td>\n",
       "      <td>0.0</td>\n",
       "      <td>0.0</td>\n",
       "      <td>0.000000</td>\n",
       "      <td>0.0</td>\n",
       "      <td>0.0</td>\n",
       "      <td>0.0</td>\n",
       "      <td>0.0</td>\n",
       "      <td>0.0</td>\n",
       "      <td>0.0</td>\n",
       "      <td>0.0</td>\n",
       "    </tr>\n",
       "  </tbody>\n",
       "</table>\n",
       "</div>"
      ],
      "text/plain": [
       "    genergy     gpuls  gdenergy    gdpuls  nbumps2   nbumps3  nbumps4  \\\n",
       "0  0.005810  0.010186  0.017897  0.025696      0.0  0.000000      0.0   \n",
       "1  0.005633  0.006864  0.019389  0.018201      0.0  0.142857      0.0   \n",
       "2  0.003063  0.006200  0.011186  0.019272      0.0  0.000000      0.0   \n",
       "3  0.011065  0.037422  0.054437  0.145610      0.0  0.142857      0.0   \n",
       "4  0.004831  0.012179  0.024609  0.047109      0.0  0.000000      0.0   \n",
       "\n",
       "   nbumps5    energy  class  seismic_b  seismoacoustic_b  seismoacoustic_c  \\\n",
       "0      0.0  0.000000    0.0        0.0               0.0               0.0   \n",
       "1      0.0  0.004975    0.0        0.0               0.0               0.0   \n",
       "2      0.0  0.000000    0.0        0.0               0.0               0.0   \n",
       "3      0.0  0.007463    0.0        0.0               0.0               0.0   \n",
       "4      0.0  0.000000    0.0        0.0               0.0               0.0   \n",
       "\n",
       "   shift_W  ghazard_b  ghazard_c  \n",
       "0      0.0        0.0        0.0  \n",
       "1      0.0        0.0        0.0  \n",
       "2      0.0        0.0        0.0  \n",
       "3      0.0        0.0        0.0  \n",
       "4      0.0        0.0        0.0  "
      ]
     },
     "execution_count": 11,
     "metadata": {},
     "output_type": "execute_result"
    }
   ],
   "source": [
    "sc = MinMaxScaler(feature_range = (0,1))\n",
    "list_columns = list(df.columns)\n",
    "df = pd.DataFrame(sc.fit_transform(df))\n",
    "df.columns = list_columns\n",
    "df.head()"
   ]
  },
  {
   "cell_type": "markdown",
   "id": "51a9de4f",
   "metadata": {},
   "source": [
    "## Raw dataframe"
   ]
  },
  {
   "cell_type": "code",
   "execution_count": 12,
   "id": "9fdbbef1",
   "metadata": {},
   "outputs": [],
   "source": [
    "df_raw = df"
   ]
  },
  {
   "cell_type": "markdown",
   "id": "75e2edd1",
   "metadata": {},
   "source": [
    "## Plot target variable"
   ]
  },
  {
   "cell_type": "code",
   "execution_count": 13,
   "id": "b143b14a",
   "metadata": {},
   "outputs": [
    {
     "data": {
      "text/plain": [
       "Text(0.5, 1.0, 'Normal vs Seismic')"
      ]
     },
     "execution_count": 13,
     "metadata": {},
     "output_type": "execute_result"
    },
    {
     "data": {
      "image/png": "[encoded data removed]",
      "text/plain": [
       "<Figure size 432x288 with 1 Axes>"
      ]
     },
     "metadata": {},
     "output_type": "display_data"
    }
   ],
   "source": [
    "labels = ['Normal', 'Seismic']\n",
    "sizes = [len(df_raw[df_raw['class']==0]), len(df_raw[df_raw['class']==1])]\n",
    "colors = ['lightskyblue', 'red']\n",
    "explode = (0, 0.1)\n",
    "plt.pie(sizes, explode=explode, labels=labels, colors=colors, autopct='%1.1f%%', shadow=True, startangle=140)\n",
    "plt.title('Normal vs Seismic')"
   ]
  },
  {
   "cell_type": "markdown",
   "id": "829dc9d5",
   "metadata": {},
   "source": [
    "# III. SOM \n",
    "## Train/test split"
   ]
  },
  {
   "cell_type": "code",
   "execution_count": 14,
   "id": "46ebe595",
   "metadata": {},
   "outputs": [],
   "source": [
    "SOM_X = df_raw.copy().drop(columns=['class']).values # No class column\n",
    "SOM_y = df_raw.iloc[:, -1].values #Class column taken as array"
   ]
  },
  {
   "cell_type": "markdown",
   "id": "a8ccc848",
   "metadata": {},
   "source": [
    "## Hyperparameters"
   ]
  },
  {
   "cell_type": "code",
   "execution_count": 15,
   "id": "18751e59",
   "metadata": {},
   "outputs": [],
   "source": [
    "n_dim = np.shape(SOM_X)[1]\n",
    "grid_size = (10, 10)\n",
    "sigma = 10\n",
    "num_iterations = 50\n",
    "learning_rate = 0.5"
   ]
  },
  {
   "cell_type": "markdown",
   "id": "1cf0ebec",
   "metadata": {},
   "source": [
    "## Fit & Train"
   ]
  },
  {
   "cell_type": "code",
   "execution_count": 24,
   "id": "a77192cb",
   "metadata": {},
   "outputs": [
    {
     "name": "stdout",
     "output_type": "stream",
     "text": [
      "Network created with dimensions 10 10\n"
     ]
    }
   ],
   "source": [
    "som = SOM(\n",
    "    grid_size[0],\n",
    "    grid_size[1],\n",
    "    dim=n_dim,\n",
    "    num_iterations=num_iterations,\n",
    "    learning_rate=learning_rate,\n",
    "    sigma=sigma)\n",
    "som.fit(SOM_X)"
   ]
  },
  {
   "cell_type": "markdown",
   "id": "ccd18573",
   "metadata": {},
   "source": [
    "## Distance matrix with MID for each vector unit"
   ]
  },
  {
   "cell_type": "code",
   "execution_count": 25,
   "id": "84c3a9e2",
   "metadata": {},
   "outputs": [],
   "source": [
    "distance_matrix = som.distance_map().T"
   ]
  },
  {
   "cell_type": "markdown",
   "id": "35d052f9",
   "metadata": {},
   "source": [
    "## Visualize results"
   ]
  },
  {
   "cell_type": "code",
   "execution_count": 26,
   "id": "ec2930d4",
   "metadata": {},
   "outputs": [
    {
     "data": {
      "text/plain": [
       "<matplotlib.colorbar.Colorbar at 0x7fadf082f880>"
      ]
     },
     "execution_count": 26,
     "metadata": {},
     "output_type": "execute_result"
    },
    {
     "data": {
      "image/png": "[encoded data removed]",
      "text/plain": [
       "<Figure size 432x288 with 2 Axes>"
      ]
     },
     "metadata": {
      "needs_background": "light"
     },
     "output_type": "display_data"
    }
   ],
   "source": [
    "bone() #Initialize visualization window\n",
    "pcolor(distance_matrix) #Color MID of the nodes\n",
    "colorbar() #To get a legend of the representation of colors."
   ]
  },
  {
   "cell_type": "code",
   "execution_count": 31,
   "id": "51cffff3",
   "metadata": {},
   "outputs": [],
   "source": [
    "max_value = np.amax(distance_matrix)\n",
    "min_value = np.amin(distance_matrix)\n",
    "list_mid = list(np.reshape(distance_matrix, (grid_size[0]*grid_size[1], )))\n",
    "list_mid.sort()\n",
    "list_mid = [j for j in list_mid if j > 4.8]\n",
    "list_idx = [np.where(distance_matrix==j) for j in list_mid]\n",
    "list_idx = [[idx_max[0][0], idx_max[1][0]] for idx_max in list_idx]\n",
    "mappings= som.map_vects(SOM_X)"
   ]
  },
  {
   "cell_type": "markdown",
   "id": "50852e54",
   "metadata": {},
   "source": [
    "## Detectar anomalías"
   ]
  },
  {
   "cell_type": "code",
   "execution_count": 32,
   "id": "b3face0d",
   "metadata": {},
   "outputs": [
    {
     "data": {
      "text/html": [
       "<div>\n",
       "<style scoped>\n",
       "    .dataframe tbody tr th:only-of-type {\n",
       "        vertical-align: middle;\n",
       "    }\n",
       "\n",
       "    .dataframe tbody tr th {\n",
       "        vertical-align: top;\n",
       "    }\n",
       "\n",
       "    .dataframe thead th {\n",
       "        text-align: right;\n",
       "    }\n",
       "</style>\n",
       "<table border=\"1\" class=\"dataframe\">\n",
       "  <thead>\n",
       "    <tr style=\"text-align: right;\">\n",
       "      <th></th>\n",
       "      <th>mapping</th>\n",
       "      <th>is_quake</th>\n",
       "      <th>quake_cualification</th>\n",
       "    </tr>\n",
       "  </thead>\n",
       "  <tbody>\n",
       "    <tr>\n",
       "      <th>0</th>\n",
       "      <td>[8, 3]</td>\n",
       "      <td>True</td>\n",
       "      <td>0.0</td>\n",
       "    </tr>\n",
       "    <tr>\n",
       "      <th>0</th>\n",
       "      <td>[8, 3]</td>\n",
       "      <td>True</td>\n",
       "      <td>0.0</td>\n",
       "    </tr>\n",
       "    <tr>\n",
       "      <th>0</th>\n",
       "      <td>[8, 3]</td>\n",
       "      <td>True</td>\n",
       "      <td>0.0</td>\n",
       "    </tr>\n",
       "    <tr>\n",
       "      <th>0</th>\n",
       "      <td>[8, 3]</td>\n",
       "      <td>True</td>\n",
       "      <td>0.0</td>\n",
       "    </tr>\n",
       "    <tr>\n",
       "      <th>0</th>\n",
       "      <td>[8, 3]</td>\n",
       "      <td>True</td>\n",
       "      <td>0.0</td>\n",
       "    </tr>\n",
       "  </tbody>\n",
       "</table>\n",
       "</div>"
      ],
      "text/plain": [
       "  mapping  is_quake  quake_cualification\n",
       "0  [8, 3]      True                  0.0\n",
       "0  [8, 3]      True                  0.0\n",
       "0  [8, 3]      True                  0.0\n",
       "0  [8, 3]      True                  0.0\n",
       "0  [8, 3]      True                  0.0"
      ]
     },
     "execution_count": 32,
     "metadata": {},
     "output_type": "execute_result"
    }
   ],
   "source": [
    "df_quakes = pd.DataFrame()\n",
    "\n",
    "for i, x in enumerate(SOM_X): #1 being index values, x are the vector quakes of each iteration,\n",
    "#going through the data\n",
    "    w = mappings[i] #BMU for the record, if the BMU equals the unit's outliers, we identify it as a potential case\n",
    "    is_quake= False\n",
    "    #Quake if w is inside the BMU\n",
    "    if [w[0], w[1]] in list_idx:\n",
    "        is_quake = True\n",
    "    #Save results\n",
    "    df_quakes = df_quakes.append(pd.DataFrame({\n",
    "        'mapping':[w],\n",
    "        'is_quake': [is_quake],\n",
    "        'quake_cualification':[df_raw.iloc[i]['class']]\n",
    "    }))\n",
    "\n",
    "df_quakes[df_quakes['is_quake'] == True].head()"
   ]
  },
  {
   "cell_type": "markdown",
   "id": "5df3aaf1",
   "metadata": {},
   "source": [
    "## Disable eager_exec"
   ]
  },
  {
   "cell_type": "code",
   "execution_count": 33,
   "id": "6ddbe7bd",
   "metadata": {},
   "outputs": [],
   "source": [
    "tf.compat.v1.disable_eager_execution()"
   ]
  },
  {
   "cell_type": "markdown",
   "id": "e0c2006b",
   "metadata": {},
   "source": [
    "# IV. Supervised AE\n",
    "## Train/Eval Split"
   ]
  },
  {
   "cell_type": "code",
   "execution_count": 34,
   "id": "d766f02f",
   "metadata": {},
   "outputs": [],
   "source": [
    "X_train, X_test = train_test_split(df_raw, test_size=0.2, random_state=42)"
   ]
  },
  {
   "cell_type": "markdown",
   "id": "7d2bda4c",
   "metadata": {},
   "source": [
    "## Train only in non outliers"
   ]
  },
  {
   "cell_type": "code",
   "execution_count": 35,
   "id": "c47cf9c9",
   "metadata": {},
   "outputs": [],
   "source": [
    "X_train = X_train[X_train['class'] == 0]\n",
    "X_train = X_train.drop(['class'], axis=1)\n",
    "y_test = X_test['class']\n",
    "X_test = X_test.drop(['class'], axis=1)\n",
    "X_train = X_train.values\n",
    "X_test = X_test.values"
   ]
  },
  {
   "cell_type": "markdown",
   "id": "62fbf958",
   "metadata": {},
   "source": [
    "## Parameters"
   ]
  },
  {
   "cell_type": "code",
   "execution_count": 36,
   "id": "445da8fa",
   "metadata": {},
   "outputs": [],
   "source": [
    "nv = X_train.shape[1] #visible units\n",
    "nh = 32 #hidden units\n",
    "epochs = 50\n",
    "batch_size = 256"
   ]
  },
  {
   "cell_type": "markdown",
   "id": "9bffd73f",
   "metadata": {},
   "source": [
    "## Train AE"
   ]
  },
  {
   "cell_type": "code",
   "execution_count": 37,
   "id": "a5f43604",
   "metadata": {},
   "outputs": [
    {
     "name": "stdout",
     "output_type": "stream",
     "text": [
      "Train on 1934 samples\n",
      "Epoch 1/50\n",
      "1934/1934 [==============================] - 0s 174us/sample - loss: 0.2217 - accuracy: 0.3263\n",
      "Epoch 2/50\n",
      "1934/1934 [==============================] - 0s 19us/sample - loss: 0.2126 - accuracy: 0.3263\n",
      "Epoch 3/50\n",
      "1934/1934 [==============================] - 0s 13us/sample - loss: 0.2036 - accuracy: 0.3278\n",
      "Epoch 4/50\n",
      "1934/1934 [==============================] - 0s 25us/sample - loss: 0.1942 - accuracy: 0.3299\n",
      "Epoch 5/50\n",
      "1934/1934 [==============================] - 0s 17us/sample - loss: 0.1844 - accuracy: 0.3294\n",
      "Epoch 6/50\n",
      "1934/1934 [==============================] - 0s 9us/sample - loss: 0.1740 - accuracy: 0.3278\n",
      "Epoch 7/50\n",
      "1934/1934 [==============================] - 0s 12us/sample - loss: 0.1633 - accuracy: 0.3175\n",
      "Epoch 8/50\n",
      "1934/1934 [==============================] - 0s 12us/sample - loss: 0.1521 - accuracy: 0.3185\n",
      "Epoch 9/50\n",
      "1934/1934 [==============================] - 0s 12us/sample - loss: 0.1409 - accuracy: 0.3428\n",
      "Epoch 10/50\n",
      "1934/1934 [==============================] - 0s 7us/sample - loss: 0.1298 - accuracy: 0.3588\n",
      "Epoch 11/50\n",
      "1934/1934 [==============================] - 0s 9us/sample - loss: 0.1193 - accuracy: 0.2549\n",
      "Epoch 12/50\n",
      "1934/1934 [==============================] - 0s 11us/sample - loss: 0.1096 - accuracy: 0.2094\n",
      "Epoch 13/50\n",
      "1934/1934 [==============================] - 0s 13us/sample - loss: 0.1007 - accuracy: 0.2073\n",
      "Epoch 14/50\n",
      "1934/1934 [==============================] - 0s 11us/sample - loss: 0.0927 - accuracy: 0.2073\n",
      "Epoch 15/50\n",
      "1934/1934 [==============================] - 0s 12us/sample - loss: 0.0855 - accuracy: 0.2068\n",
      "Epoch 16/50\n",
      "1934/1934 [==============================] - 0s 8us/sample - loss: 0.0791 - accuracy: 0.2068\n",
      "Epoch 17/50\n",
      "1934/1934 [==============================] - 0s 12us/sample - loss: 0.0734 - accuracy: 0.2063\n",
      "Epoch 18/50\n",
      "1934/1934 [==============================] - 0s 9us/sample - loss: 0.0683 - accuracy: 0.2079\n",
      "Epoch 19/50\n",
      "1934/1934 [==============================] - 0s 12us/sample - loss: 0.0640 - accuracy: 0.2161\n",
      "Epoch 20/50\n",
      "1934/1934 [==============================] - ETA: 0s - loss: 0.0627 - accuracy: 0.21 - 0s 12us/sample - loss: 0.0603 - accuracy: 0.2384\n",
      "Epoch 21/50\n",
      "1934/1934 [==============================] - 0s 24us/sample - loss: 0.0570 - accuracy: 0.2435\n",
      "Epoch 22/50\n",
      "1934/1934 [==============================] - 0s 21us/sample - loss: 0.0541 - accuracy: 0.2456\n",
      "Epoch 23/50\n",
      "1934/1934 [==============================] - 0s 11us/sample - loss: 0.0515 - accuracy: 0.2528\n",
      "Epoch 24/50\n",
      "1934/1934 [==============================] - 0s 14us/sample - loss: 0.0492 - accuracy: 0.2632\n",
      "Epoch 25/50\n",
      "1934/1934 [==============================] - 0s 12us/sample - loss: 0.0471 - accuracy: 0.3118\n",
      "Epoch 26/50\n",
      "1934/1934 [==============================] - 0s 12us/sample - loss: 0.0452 - accuracy: 0.3402\n",
      "Epoch 27/50\n",
      "1934/1934 [==============================] - 0s 15us/sample - loss: 0.0434 - accuracy: 0.3475\n",
      "Epoch 28/50\n",
      "1934/1934 [==============================] - 0s 20us/sample - loss: 0.0418 - accuracy: 0.3552\n",
      "Epoch 29/50\n",
      "1934/1934 [==============================] - 0s 34us/sample - loss: 0.0402 - accuracy: 0.3671\n",
      "Epoch 30/50\n",
      "1934/1934 [==============================] - 0s 45us/sample - loss: 0.0387 - accuracy: 0.3713\n",
      "Epoch 31/50\n",
      "1934/1934 [==============================] - 0s 19us/sample - loss: 0.0373 - accuracy: 0.3738\n",
      "Epoch 32/50\n",
      "1934/1934 [==============================] - 0s 23us/sample - loss: 0.0360 - accuracy: 0.3775\n",
      "Epoch 33/50\n",
      "1934/1934 [==============================] - 0s 21us/sample - loss: 0.0347 - accuracy: 0.3816\n",
      "Epoch 34/50\n",
      "1934/1934 [==============================] - 0s 24us/sample - loss: 0.0335 - accuracy: 0.3992\n",
      "Epoch 35/50\n",
      "1934/1934 [==============================] - 0s 14us/sample - loss: 0.0324 - accuracy: 0.4462\n",
      "Epoch 36/50\n",
      "1934/1934 [==============================] - 0s 7us/sample - loss: 0.0313 - accuracy: 0.4928\n",
      "Epoch 37/50\n",
      "1934/1934 [==============================] - 0s 10us/sample - loss: 0.0302 - accuracy: 0.5238\n",
      "Epoch 38/50\n",
      "1934/1934 [==============================] - 0s 11us/sample - loss: 0.0292 - accuracy: 0.5331\n",
      "Epoch 39/50\n",
      "1934/1934 [==============================] - 0s 11us/sample - loss: 0.0282 - accuracy: 0.5434\n",
      "Epoch 40/50\n",
      "1934/1934 [==============================] - 0s 13us/sample - loss: 0.0273 - accuracy: 0.5548\n",
      "Epoch 41/50\n",
      "1934/1934 [==============================] - 0s 18us/sample - loss: 0.0263 - accuracy: 0.5651\n",
      "Epoch 42/50\n",
      "1934/1934 [==============================] - 0s 10us/sample - loss: 0.0255 - accuracy: 0.5770\n",
      "Epoch 43/50\n",
      "1934/1934 [==============================] - 0s 13us/sample - loss: 0.0246 - accuracy: 0.5822\n",
      "Epoch 44/50\n",
      "1934/1934 [==============================] - 0s 15us/sample - loss: 0.0238 - accuracy: 0.5879\n",
      "Epoch 45/50\n",
      "1934/1934 [==============================] - 0s 17us/sample - loss: 0.0231 - accuracy: 0.5905\n",
      "Epoch 46/50\n",
      "1934/1934 [==============================] - 0s 10us/sample - loss: 0.0223 - accuracy: 0.5936\n",
      "Epoch 47/50\n",
      "1934/1934 [==============================] - 0s 15us/sample - loss: 0.0216 - accuracy: 0.5946\n",
      "Epoch 48/50\n",
      "1934/1934 [==============================] - 0s 17us/sample - loss: 0.0209 - accuracy: 0.5946\n",
      "Epoch 49/50\n",
      "1934/1934 [==============================] - 0s 22us/sample - loss: 0.0202 - accuracy: 0.5972\n",
      "Epoch 50/50\n",
      "1934/1934 [==============================] - 0s 16us/sample - loss: 0.0196 - accuracy: 0.5988\n"
     ]
    }
   ],
   "source": [
    "model = autoencoder_function(nv, nh, optimizer='adam', loss='mean_squared_error', metrics=['accuracy'])\n",
    "history = model.fit(X_train, X_train, epochs=epochs, batch_size=batch_size, shuffle=True)"
   ]
  },
  {
   "cell_type": "markdown",
   "id": "8d1043a7",
   "metadata": {},
   "source": [
    "## Plot metrics\n"
   ]
  },
  {
   "cell_type": "code",
   "execution_count": 38,
   "id": "e7caad0f",
   "metadata": {},
   "outputs": [
    {
     "data": {
      "image/png": "[encoded data removed]",
      "text/plain": [
       "<Figure size 432x288 with 1 Axes>"
      ]
     },
     "metadata": {
      "needs_background": "light"
     },
     "output_type": "display_data"
    }
   ],
   "source": [
    "plt_history = history.history\n",
    "plt.plot(plt_history['loss'])\n",
    "plt.title('model loss')\n",
    "plt.ylabel('loss')\n",
    "plt.xlabel('epoch')\n",
    "plt.legend(['validation'], loc='upper right')\n",
    "plt.show()"
   ]
  },
  {
   "cell_type": "markdown",
   "id": "c8b0dd6b",
   "metadata": {},
   "source": [
    "## Obtain predictions"
   ]
  },
  {
   "cell_type": "code",
   "execution_count": 39,
   "id": "385586ef",
   "metadata": {},
   "outputs": [
    {
     "name": "stderr",
     "output_type": "stream",
     "text": [
      "/usr/local/anaconda3/lib/python3.8/site-packages/tensorflow/python/keras/engine/training.py:2426: UserWarning: `Model.state_updates` will be removed in a future version. This property should not be used in TensorFlow 2.0, as `updates` are applied automatically.\n",
      "  warnings.warn('`Model.state_updates` will be removed in a future version. '\n"
     ]
    }
   ],
   "source": [
    "threshold = 0.02 # Set threshold for reconstruction error\n",
    "\n",
    "predictions = model.predict(X_test)\n",
    "se = np.mean(np.power(X_test - predictions, 2), axis = 1)\n",
    "mse = np.mean(np.power(X_test - predictions, 2), axis = 1)\n",
    "error_df = pd.DataFrame({'reconstruction_error': mse, 'true_class': y_test})"
   ]
  },
  {
   "cell_type": "markdown",
   "id": "53d33b2c",
   "metadata": {},
   "source": [
    "## Visualize [Chart]"
   ]
  },
  {
   "cell_type": "code",
   "execution_count": 40,
   "id": "9af0ffa4",
   "metadata": {},
   "outputs": [
    {
     "data": {
      "image/png": "[encoded data removed]",
      "text/plain": [
       "<Figure size 432x288 with 1 Axes>"
      ]
     },
     "metadata": {
      "needs_background": "light"
     },
     "output_type": "display_data"
    }
   ],
   "source": [
    "groups = error_df.groupby('true_class')\n",
    "fig, ax = plt.subplots()\n",
    "\n",
    "for name, group in groups:\n",
    "    ax.plot(group.index,\n",
    "            group.reconstruction_error,\n",
    "            marker='o',\n",
    "            ms=3.5,\n",
    "            linestyle='',\n",
    "            label='Outlier' if name == 1 else 'Normal')\n",
    "    \n",
    "ax.hlines(threshold, ax.get_xlim()[0], ax.get_xlim()[1], colors='r', zorder=100, label='Threshold')\n",
    "ax.legend()\n",
    "plt.title('Reconstruction error for different classes')\n",
    "plt.ylabel('Reconstruction error')\n",
    "plt.xlabel('Data point index')\n",
    "plt.show()"
   ]
  },
  {
   "cell_type": "markdown",
   "id": "aa011b52",
   "metadata": {},
   "source": [
    "## Visualize[CM]"
   ]
  },
  {
   "cell_type": "code",
   "execution_count": 41,
   "id": "068376f7",
   "metadata": {},
   "outputs": [
    {
     "data": {
      "image/png": "[encoded data removed]",
      "text/plain": [
       "<Figure size 432x288 with 2 Axes>"
      ]
     },
     "metadata": {
      "needs_background": "light"
     },
     "output_type": "display_data"
    }
   ],
   "source": [
    "y_pred = [1 if e < threshold else 0 for e in error_df.reconstruction_error.values]\n",
    "conf_matrix = confusion_matrix(error_df.true_class, y_pred)\n",
    "sns.heatmap(conf_matrix, xticklabels=labels, yticklabels=labels, annot=True, fmt='d', annot_kws={'fontsize':12})\n",
    "plt.title('Confusion Matrix')\n",
    "plt.ylabel('True Class')\n",
    "plt.xlabel('Predicted Class')\n",
    "plt.show()"
   ]
  },
  {
   "cell_type": "markdown",
   "id": "2be3d09e",
   "metadata": {},
   "source": [
    "## Other metrics"
   ]
  },
  {
   "cell_type": "code",
   "execution_count": 42,
   "id": "1bb18fef",
   "metadata": {},
   "outputs": [
    {
     "name": "stdout",
     "output_type": "stream",
     "text": [
      "F1 score:  0.10784313725490197\n"
     ]
    }
   ],
   "source": [
    "print('F1 score: ', f1_score(error_df.true_class, y_pred))"
   ]
  },
  {
   "cell_type": "code",
   "execution_count": 43,
   "id": "d14b13d7",
   "metadata": {},
   "outputs": [],
   "source": [
    "model.save('models/quake_supervised_ae.h5')"
   ]
  },
  {
   "cell_type": "markdown",
   "id": "0edb8c7a",
   "metadata": {},
   "source": [
    "# V. Unsupervised AE\n",
    "## Train/Eval split"
   ]
  },
  {
   "cell_type": "code",
   "execution_count": 44,
   "id": "cf64858a",
   "metadata": {},
   "outputs": [],
   "source": [
    "df_input = df_raw.copy().drop(columns=['class']) # No class column\n",
    "X_train, X_test = train_test_split(df_input, test_size=0.2, random_state=42)"
   ]
  },
  {
   "cell_type": "markdown",
   "id": "aea75a77",
   "metadata": {},
   "source": [
    "## Parameters"
   ]
  },
  {
   "cell_type": "code",
   "execution_count": 45,
   "id": "7ad35f47",
   "metadata": {},
   "outputs": [],
   "source": [
    "nv = X_train.shape[1] #visible units\n",
    "nh = 32\n",
    "epochs = 50\n",
    "batch_size = 256"
   ]
  },
  {
   "cell_type": "markdown",
   "id": "8aa16ef4",
   "metadata": {},
   "source": [
    "## Train AE"
   ]
  },
  {
   "cell_type": "code",
   "execution_count": 46,
   "id": "171fb886",
   "metadata": {},
   "outputs": [
    {
     "name": "stdout",
     "output_type": "stream",
     "text": [
      "Train on 2067 samples\n",
      "Epoch 1/50\n",
      "2067/2067 [==============================] - 0s 36us/sample - loss: 0.2306 - accuracy: 0.3841\n",
      "Epoch 2/50\n",
      "2067/2067 [==============================] - 0s 14us/sample - loss: 0.2195 - accuracy: 0.4838\n",
      "Epoch 3/50\n",
      "2067/2067 [==============================] - 0s 18us/sample - loss: 0.2087 - accuracy: 0.5099\n",
      "Epoch 4/50\n",
      "2067/2067 [==============================] - 0s 21us/sample - loss: 0.1976 - accuracy: 0.5568\n",
      "Epoch 5/50\n",
      "2067/2067 [==============================] - 0s 16us/sample - loss: 0.1860 - accuracy: 0.6565\n",
      "Epoch 6/50\n",
      "2067/2067 [==============================] - 0s 18us/sample - loss: 0.1735 - accuracy: 0.6439\n",
      "Epoch 7/50\n",
      "2067/2067 [==============================] - 0s 10us/sample - loss: 0.1603 - accuracy: 0.6202\n",
      "Epoch 8/50\n",
      "2067/2067 [==============================] - 0s 11us/sample - loss: 0.1465 - accuracy: 0.5631\n",
      "Epoch 9/50\n",
      "2067/2067 [==============================] - 0s 11us/sample - loss: 0.1326 - accuracy: 0.5090\n",
      "Epoch 10/50\n",
      "2067/2067 [==============================] - 0s 9us/sample - loss: 0.1189 - accuracy: 0.4625\n",
      "Epoch 11/50\n",
      "2067/2067 [==============================] - 0s 13us/sample - loss: 0.1061 - accuracy: 0.4330\n",
      "Epoch 12/50\n",
      "2067/2067 [==============================] - 0s 32us/sample - loss: 0.0946 - accuracy: 0.4015\n",
      "Epoch 13/50\n",
      "2067/2067 [==============================] - 0s 17us/sample - loss: 0.0848 - accuracy: 0.3459\n",
      "Epoch 14/50\n",
      "2067/2067 [==============================] - 0s 11us/sample - loss: 0.0766 - accuracy: 0.3106\n",
      "Epoch 15/50\n",
      "2067/2067 [==============================] - 0s 11us/sample - loss: 0.0697 - accuracy: 0.3004\n",
      "Epoch 16/50\n",
      "2067/2067 [==============================] - 0s 10us/sample - loss: 0.0641 - accuracy: 0.3106\n",
      "Epoch 17/50\n",
      "2067/2067 [==============================] - 0s 8us/sample - loss: 0.0594 - accuracy: 0.3266\n",
      "Epoch 18/50\n",
      "2067/2067 [==============================] - 0s 11us/sample - loss: 0.0555 - accuracy: 0.3314\n",
      "Epoch 19/50\n",
      "2067/2067 [==============================] - 0s 9us/sample - loss: 0.0522 - accuracy: 0.3358\n",
      "Epoch 20/50\n",
      "2067/2067 [==============================] - 0s 8us/sample - loss: 0.0493 - accuracy: 0.3411\n",
      "Epoch 21/50\n",
      "2067/2067 [==============================] - 0s 8us/sample - loss: 0.0468 - accuracy: 0.3488\n",
      "Epoch 22/50\n",
      "2067/2067 [==============================] - 0s 15us/sample - loss: 0.0446 - accuracy: 0.3633\n",
      "Epoch 23/50\n",
      "2067/2067 [==============================] - 0s 12us/sample - loss: 0.0425 - accuracy: 0.3745\n",
      "Epoch 24/50\n",
      "2067/2067 [==============================] - 0s 11us/sample - loss: 0.0407 - accuracy: 0.3856\n",
      "Epoch 25/50\n",
      "2067/2067 [==============================] - 0s 26us/sample - loss: 0.0391 - accuracy: 0.4127\n",
      "Epoch 26/50\n",
      "2067/2067 [==============================] - 0s 44us/sample - loss: 0.0375 - accuracy: 0.4344\n",
      "Epoch 27/50\n",
      "2067/2067 [==============================] - 0s 23us/sample - loss: 0.0361 - accuracy: 0.4669\n",
      "Epoch 28/50\n",
      "2067/2067 [==============================] - 0s 24us/sample - loss: 0.0347 - accuracy: 0.4838\n",
      "Epoch 29/50\n",
      "2067/2067 [==============================] - 0s 12us/sample - loss: 0.0335 - accuracy: 0.5022\n",
      "Epoch 30/50\n",
      "2067/2067 [==============================] - 0s 14us/sample - loss: 0.0323 - accuracy: 0.5162\n",
      "Epoch 31/50\n",
      "2067/2067 [==============================] - 0s 13us/sample - loss: 0.0311 - accuracy: 0.5283\n",
      "Epoch 32/50\n",
      "2067/2067 [==============================] - 0s 8us/sample - loss: 0.0300 - accuracy: 0.5506\n",
      "Epoch 33/50\n",
      "2067/2067 [==============================] - 0s 8us/sample - loss: 0.0289 - accuracy: 0.5781\n",
      "Epoch 34/50\n",
      "2067/2067 [==============================] - 0s 13us/sample - loss: 0.0279 - accuracy: 0.5868\n",
      "Epoch 35/50\n",
      "2067/2067 [==============================] - 0s 11us/sample - loss: 0.0270 - accuracy: 0.5907\n",
      "Epoch 36/50\n",
      "2067/2067 [==============================] - 0s 28us/sample - loss: 0.0260 - accuracy: 0.6018\n",
      "Epoch 37/50\n",
      "2067/2067 [==============================] - 0s 31us/sample - loss: 0.0252 - accuracy: 0.6130\n",
      "Epoch 38/50\n",
      "2067/2067 [==============================] - 0s 20us/sample - loss: 0.0243 - accuracy: 0.6125\n",
      "Epoch 39/50\n",
      "2067/2067 [==============================] - 0s 16us/sample - loss: 0.0235 - accuracy: 0.6076\n",
      "Epoch 40/50\n",
      "2067/2067 [==============================] - 0s 20us/sample - loss: 0.0228 - accuracy: 0.6096\n",
      "Epoch 41/50\n",
      "2067/2067 [==============================] - 0s 15us/sample - loss: 0.0220 - accuracy: 0.6091\n",
      "Epoch 42/50\n",
      "2067/2067 [==============================] - 0s 13us/sample - loss: 0.0213 - accuracy: 0.6072\n",
      "Epoch 43/50\n",
      "2067/2067 [==============================] - 0s 12us/sample - loss: 0.0206 - accuracy: 0.6130\n",
      "Epoch 44/50\n",
      "2067/2067 [==============================] - 0s 44us/sample - loss: 0.0200 - accuracy: 0.6202\n",
      "Epoch 45/50\n",
      "2067/2067 [==============================] - 0s 35us/sample - loss: 0.0193 - accuracy: 0.6265\n",
      "Epoch 46/50\n",
      "2067/2067 [==============================] - 0s 19us/sample - loss: 0.0187 - accuracy: 0.6173\n",
      "Epoch 47/50\n",
      "2067/2067 [==============================] - 0s 23us/sample - loss: 0.0181 - accuracy: 0.6091\n",
      "Epoch 48/50\n",
      "2067/2067 [==============================] - 0s 37us/sample - loss: 0.0176 - accuracy: 0.6067\n",
      "Epoch 49/50\n",
      "2067/2067 [==============================] - 0s 42us/sample - loss: 0.0171 - accuracy: 0.6043\n",
      "Epoch 50/50\n",
      "2067/2067 [==============================] - 0s 22us/sample - loss: 0.0166 - accuracy: 0.5994\n"
     ]
    }
   ],
   "source": [
    "model = autoencoder_function(nv, nh, optimizer='adam', loss='mean_squared_error', metrics=['accuracy'])\n",
    "history = model.fit(X_train, X_train, epochs=epochs, batch_size=batch_size, shuffle=True)"
   ]
  },
  {
   "cell_type": "markdown",
   "id": "2a5ff23b",
   "metadata": {},
   "source": [
    "## Obtain predictions"
   ]
  },
  {
   "cell_type": "code",
   "execution_count": 47,
   "id": "78abbaca",
   "metadata": {},
   "outputs": [
    {
     "name": "stderr",
     "output_type": "stream",
     "text": [
      "/usr/local/anaconda3/lib/python3.8/site-packages/tensorflow/python/keras/engine/training.py:2426: UserWarning: `Model.state_updates` will be removed in a future version. This property should not be used in TensorFlow 2.0, as `updates` are applied automatically.\n",
      "  warnings.warn('`Model.state_updates` will be removed in a future version. '\n"
     ]
    }
   ],
   "source": [
    "threshold = 0.02 # Set threshold for reconstruction error\n",
    "\n",
    "predictions = model.predict(X_test)\n",
    "se = np.mean(np.power(X_test - predictions, 2), axis = 1)\n",
    "mse = np.mean(np.power(X_test - predictions, 2), axis = 1)\n",
    "error_df = pd.DataFrame({'reconstruction_error': mse})"
   ]
  },
  {
   "cell_type": "markdown",
   "id": "a33f45cc",
   "metadata": {},
   "source": [
    "## Visualize [Chart]"
   ]
  },
  {
   "cell_type": "code",
   "execution_count": 48,
   "id": "785f1fbd",
   "metadata": {
    "scrolled": true
   },
   "outputs": [
    {
     "data": {
      "image/png": "[encoded data removed]",
      "text/plain": [
       "<Figure size 432x288 with 1 Axes>"
      ]
     },
     "metadata": {
      "needs_background": "light"
     },
     "output_type": "display_data"
    }
   ],
   "source": [
    "fig, ax = plt.subplots()\n",
    "\n",
    "ax.plot(error_df.index, error_df.reconstruction_error, marker='o', ms=3.5, linestyle='')\n",
    "ax.hlines(threshold, ax.get_xlim()[0], ax.get_xlim()[1], colors='r', zorder=100, label='Threshold')\n",
    "ax.legend()\n",
    "plt.title('Reconstruction error for unlabelled data')\n",
    "plt.ylabel('Reconstruction error')\n",
    "plt.xlabel('Data point index')\n",
    "plt.show()"
   ]
  },
  {
   "cell_type": "code",
   "execution_count": 49,
   "id": "c0ccf3f6",
   "metadata": {},
   "outputs": [],
   "source": [
    "model.save('models/quake_unsupervised_ae.h5')"
   ]
  },
  {
   "cell_type": "code",
   "execution_count": null,
   "id": "ac45083b",
   "metadata": {},
   "outputs": [],
   "source": []
  }
 ],
 "metadata": {
  "kernelspec": {
   "display_name": "Python 3",
   "language": "python",
   "name": "python3"
  },
  "language_info": {
   "codemirror_mode": {
    "name": "ipython",
    "version": 3
   },
   "file_extension": ".py",
   "mimetype": "text/x-python",
   "name": "python",
   "nbconvert_exporter": "python",
   "pygments_lexer": "ipython3",
   "version": "3.8.8"
  }
 },
 "nbformat": 4,
 "nbformat_minor": 5
}
