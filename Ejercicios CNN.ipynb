{
 "cells": [
  {
   "cell_type": "markdown",
   "id": "a316041a",
   "metadata": {},
   "source": [
    "# Importando las librerias y paquetes para entrenar el modelo"
   ]
  },
  {
   "cell_type": "code",
   "execution_count": 1,
   "id": "4b108812",
   "metadata": {},
   "outputs": [],
   "source": [
    "import os\n",
    "import numpy as np\n",
    "import tensorflow as tf\n",
    "import matplotlib.pyplot as plt\n",
    "import matplotlib.image as mpimg"
   ]
  },
  {
   "cell_type": "code",
   "execution_count": 2,
   "id": "d47ccbd9",
   "metadata": {},
   "outputs": [],
   "source": [
    "from tensorflow.keras.layers import Activation, Dropout\n",
    "from tensorflow.keras.preprocessing.image import ImageDataGenerator, load_img, img_to_array\n",
    "from tensorflow.keras.layers import Dropout\n",
    "from tensorflow.keras.datasets import mnist\n",
    "from tensorflow import keras\n",
    "from sklearn.metrics import f1_score, confusion_matrix, precision_recall_fscore_support"
   ]
  },
  {
   "cell_type": "markdown",
   "id": "bb2f97c4",
   "metadata": {},
   "source": [
    "# Data de configuración para el Modelo"
   ]
  },
  {
   "cell_type": "code",
   "execution_count": 3,
   "id": "1905756c",
   "metadata": {},
   "outputs": [],
   "source": [
    "height, width = (28, 28) # 28x28 ya que es la dimensionalidad de los datos de kera\n",
    "batch_size = 128\n",
    "num_classes = 10\n",
    "epochs = 12"
   ]
  },
  {
   "cell_type": "markdown",
   "id": "0fa80b5f",
   "metadata": {},
   "source": [
    "# Dataset"
   ]
  },
  {
   "cell_type": "code",
   "execution_count": 4,
   "id": "ff2ba6b5",
   "metadata": {},
   "outputs": [
    {
     "name": "stdout",
     "output_type": "stream",
     "text": [
      "x_train shape: (60000, 28, 28, 1)\n",
      "60000 train samples\n",
      "10000 test samples\n"
     ]
    }
   ],
   "source": [
    "(x_train, y_train), (x_test, y_test) = mnist.load_data()\n",
    "x_train = x_train.reshape(x_train.shape[0], height, width, 1)\n",
    "x_test = x_test.reshape(x_test.shape[0], height, width, 1)\n",
    "input_shape = (height, width, 1)\n",
    "x_train = x_train.astype('float32')\n",
    "x_test = x_test.astype('float32')\n",
    "x_train /= 255\n",
    "x_test /= 255\n",
    "print('x_train shape:', x_train.shape)\n",
    "print(x_train.shape[0], 'train samples')\n",
    "print(x_test.shape[0], 'test samples')"
   ]
  },
  {
   "cell_type": "markdown",
   "id": "4bb42247",
   "metadata": {},
   "source": [
    "# Convert class vectors to binary class matrices"
   ]
  },
  {
   "cell_type": "code",
   "execution_count": 5,
   "id": "d4fc7c61",
   "metadata": {},
   "outputs": [],
   "source": [
    "y_train = keras.utils.to_categorical(y_train, num_classes)\n",
    "y_test = keras.utils.to_categorical(y_test, num_classes)"
   ]
  },
  {
   "cell_type": "markdown",
   "id": "18b3ac73",
   "metadata": {},
   "source": [
    "# Importando las librerias y paquetes de Tensorflow/Keras"
   ]
  },
  {
   "cell_type": "code",
   "execution_count": 6,
   "id": "7822d532",
   "metadata": {},
   "outputs": [],
   "source": [
    "from tensorflow.keras.models import Sequential # Para inicializar la NN \n",
    "#(como es una Secuencia de layers, lo hago igual que con ANN; no uso la inici. de Graph)\n",
    "from tensorflow.keras.layers import Convolution2D # Para hacer el paso de convolución\n",
    "from tensorflow.keras.layers import AveragePooling2D # Para el Pooling step\n",
    "from tensorflow.keras.layers import Flatten # Para el flattening\n",
    "from tensorflow.keras.layers import Dense # Para añadir los fully-connected layers hacia el layer de outputs"
   ]
  },
  {
   "cell_type": "markdown",
   "id": "7b19528d",
   "metadata": {},
   "source": [
    "# Extracción de variables"
   ]
  },
  {
   "cell_type": "markdown",
   "id": "93a48033",
   "metadata": {},
   "source": [
    "## Inicialización de la CNN"
   ]
  },
  {
   "cell_type": "code",
   "execution_count": 7,
   "id": "29a514f0",
   "metadata": {},
   "outputs": [],
   "source": [
    "model = Sequential()"
   ]
  },
  {
   "cell_type": "markdown",
   "id": "8152ff3e",
   "metadata": {},
   "source": [
    "## Paso 1 - La Convolución\n",
    "### En Convolución: nº filtros, filas, columnas.\n",
    "### Se define también la dimensión del kernel (mismo para los 6 filtros que se aplican)\n",
    "### Se pasa de 32 x 32 x 1 a 28 x 28 x 6"
   ]
  },
  {
   "cell_type": "code",
   "execution_count": 8,
   "id": "3bc6e25d",
   "metadata": {},
   "outputs": [
    {
     "data": {
      "text/plain": [
       "[<tensorflow.python.keras.layers.convolutional.Conv2D at 0x7fb0060e6cd0>]"
      ]
     },
     "execution_count": 8,
     "metadata": {},
     "output_type": "execute_result"
    }
   ],
   "source": [
    "model.add(Convolution2D(filters=6,\n",
    " kernel_size=(3, 3),\n",
    " activation='relu',\n",
    " input_shape=input_shape))\n",
    "model.layers"
   ]
  },
  {
   "cell_type": "markdown",
   "id": "e223de2c",
   "metadata": {},
   "source": [
    "## Paso 2 - 1er Avg. Pooling\n",
    "### El tamaño del kernel del avg. pooling es 2x2\n",
    "### Se pasa de 28 x 28 x 6 a 14 x 14 x 6"
   ]
  },
  {
   "cell_type": "code",
   "execution_count": 9,
   "id": "12c305c9",
   "metadata": {},
   "outputs": [
    {
     "data": {
      "text/plain": [
       "[<tensorflow.python.keras.layers.convolutional.Conv2D at 0x7fb0060e6cd0>,\n",
       " <tensorflow.python.keras.layers.pooling.AveragePooling2D at 0x7fafe9bb5730>]"
      ]
     },
     "execution_count": 9,
     "metadata": {},
     "output_type": "execute_result"
    }
   ],
   "source": [
    "model.add(AveragePooling2D(pool_size=(2, 2), strides=2))\n",
    "model.layers"
   ]
  },
  {
   "cell_type": "markdown",
   "id": "955fe024",
   "metadata": {},
   "source": [
    "## Paso 3 - 2nda Convolución\n",
    "### En este caso, como es un 2º layer, y su input no es las imagenes, sino el otro layer, no pongo input_shape\n",
    "### Se pasa de 14 x 14 x 6 a 10 x 10 x 16"
   ]
  },
  {
   "cell_type": "code",
   "execution_count": 10,
   "id": "706ad1db",
   "metadata": {},
   "outputs": [
    {
     "data": {
      "text/plain": [
       "[<tensorflow.python.keras.layers.convolutional.Conv2D at 0x7fb0060e6cd0>,\n",
       " <tensorflow.python.keras.layers.pooling.AveragePooling2D at 0x7fafe9bb5730>,\n",
       " <tensorflow.python.keras.layers.convolutional.Conv2D at 0x7fafe9bb5400>]"
      ]
     },
     "execution_count": 10,
     "metadata": {},
     "output_type": "execute_result"
    }
   ],
   "source": [
    "model.add(Convolution2D(filters=16,\n",
    " kernel_size=(3, 3),\n",
    " activation='relu'))\n",
    "model.layers"
   ]
  },
  {
   "cell_type": "markdown",
   "id": "7d36e833",
   "metadata": {},
   "source": [
    "## Paso 4 - 2ndo Avg. Pooling\n",
    "### Se pasa de 10 x 10 x 16 a 5 x 5 x 16"
   ]
  },
  {
   "cell_type": "code",
   "execution_count": 11,
   "id": "d1946327",
   "metadata": {},
   "outputs": [
    {
     "data": {
      "text/plain": [
       "[<tensorflow.python.keras.layers.convolutional.Conv2D at 0x7fb0060e6cd0>,\n",
       " <tensorflow.python.keras.layers.pooling.AveragePooling2D at 0x7fafe9bb5730>,\n",
       " <tensorflow.python.keras.layers.convolutional.Conv2D at 0x7fafe9bb5400>,\n",
       " <tensorflow.python.keras.layers.pooling.AveragePooling2D at 0x7fb008ed6550>]"
      ]
     },
     "execution_count": 11,
     "metadata": {},
     "output_type": "execute_result"
    }
   ],
   "source": [
    "model.add(AveragePooling2D(pool_size=(2, 2),\n",
    " strides=2))\n",
    "model.layers"
   ]
  },
  {
   "cell_type": "markdown",
   "id": "3ef8fe2f",
   "metadata": {},
   "source": [
    "## Paso 5 - Flattening\n",
    "### Se pasa de 5 x 5 x 16 a 120 x 1"
   ]
  },
  {
   "cell_type": "code",
   "execution_count": 12,
   "id": "951def86",
   "metadata": {},
   "outputs": [
    {
     "data": {
      "text/plain": [
       "[<tensorflow.python.keras.layers.convolutional.Conv2D at 0x7fb0060e6cd0>,\n",
       " <tensorflow.python.keras.layers.pooling.AveragePooling2D at 0x7fafe9bb5730>,\n",
       " <tensorflow.python.keras.layers.convolutional.Conv2D at 0x7fafe9bb5400>,\n",
       " <tensorflow.python.keras.layers.pooling.AveragePooling2D at 0x7fb008ed6550>,\n",
       " <tensorflow.python.keras.layers.core.Flatten at 0x7fafe9bb5790>]"
      ]
     },
     "execution_count": 12,
     "metadata": {},
     "output_type": "execute_result"
    }
   ],
   "source": [
    "model.add(Flatten())\n",
    "model.layers"
   ]
  },
  {
   "cell_type": "markdown",
   "id": "ff319d09",
   "metadata": {},
   "source": [
    "# Red NN para classificación Fully Connected"
   ]
  },
  {
   "cell_type": "markdown",
   "id": "51b4d93e",
   "metadata": {},
   "source": [
    "## Entrada: n_batch x 120\n",
    "## HL: 120 x 120\n",
    "## Salida: n_batch x 120"
   ]
  },
  {
   "cell_type": "code",
   "execution_count": 13,
   "id": "450d04cc",
   "metadata": {},
   "outputs": [],
   "source": [
    "model.add(Dense(units=120, activation='relu'))"
   ]
  },
  {
   "cell_type": "markdown",
   "id": "53831dcb",
   "metadata": {},
   "source": [
    "## Entrada: n_batch x 120\n",
    "## HL: 120 x 84\n",
    "## Salida: n_batch x 84"
   ]
  },
  {
   "cell_type": "code",
   "execution_count": 14,
   "id": "4199b8ca",
   "metadata": {},
   "outputs": [],
   "source": [
    "model.add(Dense(units=84, activation='relu'))"
   ]
  },
  {
   "cell_type": "markdown",
   "id": "e5c4ad69",
   "metadata": {},
   "source": [
    "## Entrada: n_batch x 84\n",
    "## Salida: Clasificación multiclase para 10 categorías\n",
    "## n_batch x 10"
   ]
  },
  {
   "cell_type": "code",
   "execution_count": 15,
   "id": "3bdba1dc",
   "metadata": {},
   "outputs": [],
   "source": [
    "model.add(Dense(units=10, activation = 'softmax'))"
   ]
  },
  {
   "cell_type": "markdown",
   "id": "27f78dd5",
   "metadata": {},
   "source": [
    "## Compilación"
   ]
  },
  {
   "cell_type": "code",
   "execution_count": 16,
   "id": "19c50c1b",
   "metadata": {},
   "outputs": [
    {
     "name": "stdout",
     "output_type": "stream",
     "text": [
      "Model: \"sequential\"\n",
      "_________________________________________________________________\n",
      "Layer (type)                 Output Shape              Param #   \n",
      "=================================================================\n",
      "conv2d (Conv2D)              (None, 26, 26, 6)         60        \n",
      "_________________________________________________________________\n",
      "average_pooling2d (AveragePo (None, 13, 13, 6)         0         \n",
      "_________________________________________________________________\n",
      "conv2d_1 (Conv2D)            (None, 11, 11, 16)        880       \n",
      "_________________________________________________________________\n",
      "average_pooling2d_1 (Average (None, 5, 5, 16)          0         \n",
      "_________________________________________________________________\n",
      "flatten (Flatten)            (None, 400)               0         \n",
      "_________________________________________________________________\n",
      "dense (Dense)                (None, 120)               48120     \n",
      "_________________________________________________________________\n",
      "dense_1 (Dense)              (None, 84)                10164     \n",
      "_________________________________________________________________\n",
      "dense_2 (Dense)              (None, 10)                850       \n",
      "=================================================================\n",
      "Total params: 60,074\n",
      "Trainable params: 60,074\n",
      "Non-trainable params: 0\n",
      "_________________________________________________________________\n"
     ]
    }
   ],
   "source": [
    "model.compile(loss='categorical_crossentropy',\n",
    " optimizer='adam',\n",
    " metrics=['accuracy'])\n",
    "model.summary()"
   ]
  },
  {
   "cell_type": "markdown",
   "id": "7b93bae0",
   "metadata": {},
   "source": [
    "## Fitting the model"
   ]
  },
  {
   "cell_type": "code",
   "execution_count": 17,
   "id": "7935b52c",
   "metadata": {},
   "outputs": [
    {
     "name": "stdout",
     "output_type": "stream",
     "text": [
      "Epoch 1/12\n",
      "469/469 [==============================] - 18s 35ms/step - loss: 0.3984 - accuracy: 0.8820 - val_loss: 0.1462 - val_accuracy: 0.9556\n",
      "Epoch 2/12\n",
      "469/469 [==============================] - 15s 33ms/step - loss: 0.1123 - accuracy: 0.9663 - val_loss: 0.0818 - val_accuracy: 0.9761\n",
      "Epoch 3/12\n",
      "469/469 [==============================] - 12s 26ms/step - loss: 0.0830 - accuracy: 0.9750 - val_loss: 0.0721 - val_accuracy: 0.9777\n",
      "Epoch 4/12\n",
      "469/469 [==============================] - 15s 32ms/step - loss: 0.0681 - accuracy: 0.9797 - val_loss: 0.0554 - val_accuracy: 0.9822\n",
      "Epoch 5/12\n",
      "469/469 [==============================] - 17s 37ms/step - loss: 0.0561 - accuracy: 0.9833 - val_loss: 0.0504 - val_accuracy: 0.9843\n",
      "Epoch 6/12\n",
      "469/469 [==============================] - 18s 39ms/step - loss: 0.0488 - accuracy: 0.9844 - val_loss: 0.0479 - val_accuracy: 0.9858\n",
      "Epoch 7/12\n",
      "469/469 [==============================] - 13s 27ms/step - loss: 0.0415 - accuracy: 0.9869 - val_loss: 0.0473 - val_accuracy: 0.9853\n",
      "Epoch 8/12\n",
      "469/469 [==============================] - 20s 42ms/step - loss: 0.0377 - accuracy: 0.9878 - val_loss: 0.0511 - val_accuracy: 0.9846\n",
      "Epoch 9/12\n",
      "469/469 [==============================] - 18s 38ms/step - loss: 0.0333 - accuracy: 0.9895 - val_loss: 0.0452 - val_accuracy: 0.9858\n",
      "Epoch 10/12\n",
      "469/469 [==============================] - 19s 40ms/step - loss: 0.0288 - accuracy: 0.9909 - val_loss: 0.0447 - val_accuracy: 0.9856\n",
      "Epoch 11/12\n",
      "469/469 [==============================] - 15s 32ms/step - loss: 0.0273 - accuracy: 0.9908 - val_loss: 0.0437 - val_accuracy: 0.9867\n",
      "Epoch 12/12\n",
      "469/469 [==============================] - 20s 42ms/step - loss: 0.0236 - accuracy: 0.9921 - val_loss: 0.0427 - val_accuracy: 0.9884\n"
     ]
    },
    {
     "data": {
      "text/plain": [
       "<tensorflow.python.keras.callbacks.History at 0x7faff599f070>"
      ]
     },
     "execution_count": 17,
     "metadata": {},
     "output_type": "execute_result"
    }
   ],
   "source": [
    "model.fit(x_train, y_train,\n",
    " batch_size=batch_size,\n",
    " epochs=epochs,\n",
    " verbose=1,\n",
    " validation_data=(x_test, y_test))"
   ]
  },
  {
   "cell_type": "markdown",
   "id": "09eb934d",
   "metadata": {},
   "source": [
    "# Evaluación del modelo"
   ]
  },
  {
   "cell_type": "code",
   "execution_count": 19,
   "id": "12e5995c",
   "metadata": {},
   "outputs": [
    {
     "name": "stdout",
     "output_type": "stream",
     "text": [
      "Test loss: 0.042724307626485825\n",
      "Test accuracy: 0.9883999824523926\n"
     ]
    }
   ],
   "source": [
    "score = model.evaluate(x_test, y_test, verbose=0)\n",
    "print('Test loss:', score[0])\n",
    "print('Test accuracy:', score[1])"
   ]
  },
  {
   "cell_type": "markdown",
   "id": "a04d49f3",
   "metadata": {},
   "source": [
    "## Predicciones del test set"
   ]
  },
  {
   "cell_type": "code",
   "execution_count": 20,
   "id": "94ff3095",
   "metadata": {},
   "outputs": [],
   "source": [
    "y_pred = model.predict(x_test).round()"
   ]
  },
  {
   "cell_type": "code",
   "execution_count": 21,
   "id": "2ab78697",
   "metadata": {},
   "outputs": [],
   "source": [
    "from sklearn import preprocessing\n",
    "lb = preprocessing.LabelBinarizer()\n",
    "lb.fit([1,2,3,4,5,6,7,8,9,10])\n",
    "y_pred = lb.inverse_transform(y_pred)\n",
    "y_test = lb.inverse_transform(y_test)"
   ]
  },
  {
   "cell_type": "markdown",
   "id": "2f0f0552",
   "metadata": {},
   "source": [
    "## Ultima Evaluacion"
   ]
  },
  {
   "cell_type": "code",
   "execution_count": 23,
   "id": "7a4184be",
   "metadata": {},
   "outputs": [
    {
     "name": "stdout",
     "output_type": "stream",
     "text": [
      "Confusion Matrix:  [[ 978    0    0    0    0    0    0    1    1    0]\n",
      " [   3 1131    0    0    0    0    0    0    1    0]\n",
      " [   3    0 1018    2    1    0    0    5    3    0]\n",
      " [   2    0    1  992    0    1    0    3    4    7]\n",
      " [   0    0    2    0  974    0    1    1    0    4]\n",
      " [   4    0    0    7    0  876    1    0    4    0]\n",
      " [  10    3    0    1    2    1  939    1    1    0]\n",
      " [   2    0    2    0    0    0    0 1016    1    7]\n",
      " [   5    0    2    1    0    1    1    3  958    3]\n",
      " [   1    0    0    1    5    1    0    1    0 1000]]\n"
     ]
    }
   ],
   "source": [
    "cm = confusion_matrix(y_test, y_pred)\n",
    "print(\"Confusion Matrix: \", cm)\n",
    "precision, recall, fbeta, support = precision_recall_fscore_support(y_test,\n",
    "y_pred)\n",
    "print(precision)"
   ]
  },
  {
   "cell_type": "code",
   "execution_count": null,
   "id": "d8bdea4d",
   "metadata": {},
   "outputs": [],
   "source": []
  }
 ],
 "metadata": {
  "kernelspec": {
   "display_name": "Python 3",
   "language": "python",
   "name": "python3"
  },
  "language_info": {
   "codemirror_mode": {
    "name": "ipython",
    "version": 3
   },
   "file_extension": ".py",
   "mimetype": "text/x-python",
   "name": "python",
   "nbconvert_exporter": "python",
   "pygments_lexer": "ipython3",
   "version": "3.8.8"
  }
 },
 "nbformat": 4,
 "nbformat_minor": 5
}
