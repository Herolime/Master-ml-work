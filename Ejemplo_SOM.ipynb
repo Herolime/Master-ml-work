{
 "cells": [
  {
   "cell_type": "markdown",
   "id": "19f7f254",
   "metadata": {},
   "source": [
    "# Declaring necessary imports"
   ]
  },
  {
   "cell_type": "code",
   "execution_count": 1,
   "id": "07c05c2f",
   "metadata": {},
   "outputs": [],
   "source": [
    "import tensorflow as tf\n",
    "import pandas as pd\n",
    "import numpy as np\n",
    "from sklearn.preprocessing import StandardScaler, MinMaxScaler"
   ]
  },
  {
   "cell_type": "markdown",
   "id": "209764b5",
   "metadata": {},
   "source": [
    "# Defining SOM"
   ]
  },
  {
   "cell_type": "code",
   "execution_count": 2,
   "id": "4df19b7b",
   "metadata": {},
   "outputs": [],
   "source": [
    "class SOM():\n",
    "    def __init__(self, m, n, dim, num_iterations=1, learning_rate=0.5, sigma=None):\n",
    "        self._m = m\n",
    "        self._n = n\n",
    "        self._neighborhood = []\n",
    "        self._topography = []\n",
    "        self._num_iterations = int(num_iterations)\n",
    "        self._learned = False\n",
    "        self.dim = dim\n",
    "        self.d = 0\n",
    "        \n",
    "        if sigma is None:\n",
    "            sigma = max(m, n)/2.0 # Constant radius\n",
    "        else:\n",
    "            sigma = float(sigma)\n",
    "            \n",
    "        self.learning_rate = learning_rate\n",
    "        self.learning_rate_0 = learning_rate\n",
    "        self.sigma = sigma\n",
    "        self.sigma_0 = sigma\n",
    "        \n",
    "        print('Network created with dimensions',m,n)\n",
    "        \n",
    "        #Weight Matrix and the topography of neurons\n",
    "        self._W = tf.random.normal([m*n, dim], seed=0)\n",
    "        \n",
    "        #Topography nos define un array de (30x30) x 2 (900 x 2) donde cada fila representa las coordenadas en el\n",
    "        #mapa de esa unidad. Por ejemplo la unidad 5 de la lista esta en las coordenadas [0,5], la 200 en la [6, 20]\n",
    "        #y la ultima es la [30, 30]\n",
    "        self._topography = np.array(list(self._neuron_location(m, n)))\n",
    "        \n",
    "    # Funcion para generar las posiciones en la malla para un array de unidades\n",
    "    def _neuron_location(self, m, n):\n",
    "        for i in range(m):\n",
    "            for j in range(n):\n",
    "                yield np.array([i,j])\n",
    "                \n",
    "    def training(self, x, i):\n",
    "        m = self._m\n",
    "        n = self._n\n",
    "        \n",
    "        #1. Obtencion de las distancias y seleccion de BMU(idx)\n",
    "        d = tf.sqrt(tf.reduce_sum(tf.pow(self._W - tf.stack([x for i in range(m*n)]), 2), 1))\n",
    "        self.BMU_idx = tf.argmin(d, 0)\n",
    "        self.d = d\n",
    "        \n",
    "        #2 Obtener BMU para el idx\n",
    "        self.BMU_loc = self._topography[self.BMU_idx]\n",
    "        \n",
    "        #3. Actualizar sigma y learning rate\n",
    "        lambda_coeff = self._num_iterations/self.sigma_0\n",
    "        learning_rate = self.learning_rate_0*np.exp(-1/lambda_coeff)\n",
    "        sigma = self.sigma_0*np.exp(-1/lambda_coeff)\n",
    "        \n",
    "        #4. Calcular b_ij\n",
    "        beta_ij = np.exp((-d**2)/(2*sigma**2))\n",
    "        \n",
    "        #5. Eligir vecinos\n",
    "        neighbs = [self._check_point(p[0], p[1], self.BMU_loc[0], self.BMU_loc[1], sigma) for p in self._topography]\n",
    "        \n",
    "        #6. Coeficiente para actualizar pesos\n",
    "        weight_multiplier = tf.math.multiply(beta_ij, neighbs)\n",
    "        weight_multiplier = tf.math.multiply(learning_rate, weight_multiplier)\n",
    "        \n",
    "        #7. Valor para actualizar pesos\n",
    "        delta_W = tf.subtract(tf.stack([x for i in range(m*n)]), self._W)\n",
    "        weight_multiplier = tf.stack([weight_multiplier for i in range(n_dim)], axis=1)\n",
    "        update_value = tf.multiply(weight_multiplier, weight_multiplier)\n",
    "        update_value = tf.multiply(weight_multiplier, delta_W)\n",
    "        \n",
    "        #8. Actualización pesos\n",
    "        new_W = self._W + update_value\n",
    "        self._W = new_W\n",
    "        \n",
    "    #Comprobar si un punto esta dentro del radio alrededor del otro\n",
    "    def _check_point(self, x, y, center_x, center_y, radius):\n",
    "        check = (x - center_x)**2 + (y - center_y)**2 < radius**2\n",
    "        if check == True:\n",
    "            return 1\n",
    "        else:\n",
    "            return 0\n",
    "        \n",
    "    def fit(self, X):\n",
    "        # Preparar datos de entrada\n",
    "        np.random.shuffle(X)\n",
    "        X = tf.cast(X, tf.float32)\n",
    "        \n",
    "        #Iteraciones\n",
    "        for i in range(self._num_iterations):\n",
    "            for x in X:\n",
    "                self.training(x, i)\n",
    "                \n",
    "        #Guardar información\n",
    "        self._Wts = list(self._W)\n",
    "        self._locations = list(self._topography)\n",
    "        self._learned = True\n",
    "        \n",
    "    def winner(self, X):\n",
    "        if not self._learned:\n",
    "            raise ValueError('SOM not trained yet')\n",
    "            \n",
    "        return self.BMU_loc.numpy()\n",
    "    \n",
    "    def map_vects(self, X):\n",
    "        if not self._learned:\n",
    "            raise ValueError('SOM not trained yet')\n",
    "            \n",
    "        to_return = []\n",
    "        for vect in X:\n",
    "            min_index = min([i for i in range(len(self._Wts))], key=lambda x: np.linalg.norm(vect - self._Wts[x]))\n",
    "            to_return.append(self._locations[min_index])\n",
    "            \n",
    "        return to_return\n",
    "    \n",
    "    def distance_map(self):\n",
    "        if not self._learned:\n",
    "            raise ValueError('SOM not trained yet')\n",
    "        \n",
    "        mapping = tf.reshape(self.d, shape=(self._m, self._n)).numpy()\n",
    "        return mapping"
   ]
  },
  {
   "cell_type": "markdown",
   "id": "76ebafc8",
   "metadata": {},
   "source": [
    "# I. Preparar los datos\n",
    "## Cargar los datos"
   ]
  },
  {
   "cell_type": "code",
   "execution_count": 3,
   "id": "3091921c",
   "metadata": {},
   "outputs": [],
   "source": [
    "dataset = pd.read_csv('Data_Sources/Credit_Card_Applications.csv')\n",
    "X = dataset.copy().drop(columns=['CustomerID', 'Class']).values\n",
    "y = dataset.iloc[:, -1].values # Variable que dice si la application del customer fue aprobada o no"
   ]
  },
  {
   "cell_type": "markdown",
   "id": "fde59690",
   "metadata": {},
   "source": [
    "## Feature Scaling"
   ]
  },
  {
   "cell_type": "code",
   "execution_count": 4,
   "id": "778642d4",
   "metadata": {},
   "outputs": [],
   "source": [
    "sc = MinMaxScaler(feature_range = (0,1)) # Para que todos los valores esten entre 0 y 1\n",
    "X = sc.fit_transform(X)"
   ]
  },
  {
   "cell_type": "markdown",
   "id": "ca7b261c",
   "metadata": {},
   "source": [
    "# II. Entrenar el modelo\n",
    "## Hyperparametros"
   ]
  },
  {
   "cell_type": "code",
   "execution_count": 5,
   "id": "0329d9a1",
   "metadata": {},
   "outputs": [],
   "source": [
    "n_dim = np.shape(X)[1]\n",
    "grid_size = (10,10)\n",
    "sigma = 10\n",
    "num_iterations = 50\n",
    "learning_rate = 0.5"
   ]
  },
  {
   "cell_type": "markdown",
   "id": "95384d29",
   "metadata": {},
   "source": [
    "## Fit & Train"
   ]
  },
  {
   "cell_type": "code",
   "execution_count": 6,
   "id": "4960510b",
   "metadata": {},
   "outputs": [
    {
     "name": "stdout",
     "output_type": "stream",
     "text": [
      "Network created with dimensions 10 10\n"
     ]
    }
   ],
   "source": [
    "som = SOM(\n",
    "    grid_size[0],\n",
    "    grid_size[1],\n",
    "    dim=n_dim,\n",
    "    num_iterations=num_iterations,\n",
    "    learning_rate=learning_rate,\n",
    "    sigma=sigma)\n",
    "som.fit(X)"
   ]
  },
  {
   "cell_type": "markdown",
   "id": "2579dc5a",
   "metadata": {},
   "source": [
    "## Malla con el MID de cada unidad"
   ]
  },
  {
   "cell_type": "code",
   "execution_count": 7,
   "id": "d36317cd",
   "metadata": {},
   "outputs": [],
   "source": [
    "distance_matrix = som.distance_map().T"
   ]
  },
  {
   "cell_type": "markdown",
   "id": "daf6cd16",
   "metadata": {},
   "source": [
    "# III. Visualización de resultados"
   ]
  },
  {
   "cell_type": "code",
   "execution_count": 8,
   "id": "1bc820ba",
   "metadata": {},
   "outputs": [
    {
     "data": {
      "text/plain": [
       "<matplotlib.colorbar.Colorbar at 0x7ffcc5437250>"
      ]
     },
     "execution_count": 8,
     "metadata": {},
     "output_type": "execute_result"
    },
    {
     "data": {
      "image/png": "[encoded data removed]",
      "text/plain": [
       "<Figure size 432x288 with 2 Axes>"
      ]
     },
     "metadata": {
      "needs_background": "light"
     },
     "output_type": "display_data"
    }
   ],
   "source": [
    "from pylab import bone, pcolor, colorbar\n",
    "bone() #Inicializo la ventana de visualización\n",
    "pcolor(distance_matrix) # Pinto el MID de los nodos\n",
    "colorbar() # Para tener la leyenda de colores. Vere que los MID van de 0 a 1, porque estan escalados"
   ]
  },
  {
   "cell_type": "code",
   "execution_count": 16,
   "id": "5568c015",
   "metadata": {},
   "outputs": [],
   "source": [
    "max_value = np.amax(distance_matrix)\n",
    "min_value = np.amin(distance_matrix)\n",
    "list_mid = list(np.reshape(distance_matrix, (grid_size[0]*grid_size[1],)))\n",
    "list_mid.sort()\n",
    "list_mid = [j for j in list_mid if j > 1.38]\n",
    "list_idx = [np.where(distance_matrix==j) for j in list_mid]\n",
    "list_idx = [[idx_max[0][0], idx_max[1][0]] for idx_max in list_idx]\n",
    "mappings = som.map_vects(X)"
   ]
  },
  {
   "cell_type": "markdown",
   "id": "b7215e66",
   "metadata": {},
   "source": [
    "# IV. Detectar anomalías"
   ]
  },
  {
   "cell_type": "code",
   "execution_count": 17,
   "id": "f2a95dfe",
   "metadata": {},
   "outputs": [
    {
     "data": {
      "text/html": [
       "<div>\n",
       "<style scoped>\n",
       "    .dataframe tbody tr th:only-of-type {\n",
       "        vertical-align: middle;\n",
       "    }\n",
       "\n",
       "    .dataframe tbody tr th {\n",
       "        vertical-align: top;\n",
       "    }\n",
       "\n",
       "    .dataframe thead th {\n",
       "        text-align: right;\n",
       "    }\n",
       "</style>\n",
       "<table border=\"1\" class=\"dataframe\">\n",
       "  <thead>\n",
       "    <tr style=\"text-align: right;\">\n",
       "      <th></th>\n",
       "      <th>user</th>\n",
       "      <th>mapping</th>\n",
       "      <th>is_fraud</th>\n",
       "      <th>credit_approval</th>\n",
       "    </tr>\n",
       "  </thead>\n",
       "  <tbody>\n",
       "    <tr>\n",
       "      <th>0</th>\n",
       "      <td>15726466.0</td>\n",
       "      <td>[8, 8]</td>\n",
       "      <td>True</td>\n",
       "      <td>0.0</td>\n",
       "    </tr>\n",
       "    <tr>\n",
       "      <th>0</th>\n",
       "      <td>15692408.0</td>\n",
       "      <td>[8, 8]</td>\n",
       "      <td>True</td>\n",
       "      <td>1.0</td>\n",
       "    </tr>\n",
       "    <tr>\n",
       "      <th>0</th>\n",
       "      <td>15683168.0</td>\n",
       "      <td>[8, 8]</td>\n",
       "      <td>True</td>\n",
       "      <td>1.0</td>\n",
       "    </tr>\n",
       "    <tr>\n",
       "      <th>0</th>\n",
       "      <td>15813718.0</td>\n",
       "      <td>[7, 9]</td>\n",
       "      <td>True</td>\n",
       "      <td>0.0</td>\n",
       "    </tr>\n",
       "    <tr>\n",
       "      <th>0</th>\n",
       "      <td>15815271.0</td>\n",
       "      <td>[7, 9]</td>\n",
       "      <td>True</td>\n",
       "      <td>0.0</td>\n",
       "    </tr>\n",
       "  </tbody>\n",
       "</table>\n",
       "</div>"
      ],
      "text/plain": [
       "         user mapping  is_fraud  credit_approval\n",
       "0  15726466.0  [8, 8]      True              0.0\n",
       "0  15692408.0  [8, 8]      True              1.0\n",
       "0  15683168.0  [8, 8]      True              1.0\n",
       "0  15813718.0  [7, 9]      True              0.0\n",
       "0  15815271.0  [7, 9]      True              0.0"
      ]
     },
     "execution_count": 17,
     "metadata": {},
     "output_type": "execute_result"
    }
   ],
   "source": [
    "df_users = pd.DataFrame()\n",
    "\n",
    "for i, x in enumerate(X): #i son los valores de los indices, y x son los distintos vectores de customers en \n",
    "#cada iteración, y recorro el dataset X con enumerate(X)\n",
    "    w = mappings[i] #BMU para ese registro\n",
    "    #Si el BMU coincide con las unidades de los outliers, lo identificamos como fraudelento\n",
    "    is_fraud = False\n",
    "    # Fraude si la variable tiene de BMU una de la lista de fraudulentas\n",
    "    if [w[0], w[1]] in list_idx:\n",
    "        is_fraud = True\n",
    "    #Guardar resultados\n",
    "    df_users = df_users.append(pd.DataFrame({\n",
    "        'user': [dataset.iloc[i]['CustomerID']],\n",
    "        'mapping':[w],\n",
    "        'is_fraud':[is_fraud],\n",
    "        'credit_approval':[dataset.iloc[i]['Class']]\n",
    "    }))\n",
    "df_users[df_users['is_fraud'] == True].head()"
   ]
  },
  {
   "cell_type": "code",
   "execution_count": null,
   "id": "8b114651",
   "metadata": {},
   "outputs": [],
   "source": []
  }
 ],
 "metadata": {
  "kernelspec": {
   "display_name": "Python 3",
   "language": "python",
   "name": "python3"
  },
  "language_info": {
   "codemirror_mode": {
    "name": "ipython",
    "version": 3
   },
   "file_extension": ".py",
   "mimetype": "text/x-python",
   "name": "python",
   "nbconvert_exporter": "python",
   "pygments_lexer": "ipython3",
   "version": "3.8.8"
  }
 },
 "nbformat": 4,
 "nbformat_minor": 5
}
